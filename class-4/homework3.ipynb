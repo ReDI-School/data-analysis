{
 "cells": [
  {
   "cell_type": "markdown",
   "metadata": {
    "deletable": true,
    "editable": true
   },
   "source": [
    "# Exercici 3"
   ]
  },
  {
   "cell_type": "markdown",
   "metadata": {
    "deletable": true,
    "editable": true
   },
   "source": [
    "Total people in the database"
   ]
  },
  {
   "cell_type": "code",
   "execution_count": 35,
   "metadata": {
    "collapsed": true,
    "deletable": true,
    "editable": true
   },
   "outputs": [],
   "source": [
    "import pandas as pd"
   ]
  },
  {
   "cell_type": "code",
   "execution_count": 36,
   "metadata": {
    "collapsed": false,
    "deletable": true,
    "editable": true
   },
   "outputs": [],
   "source": [
    "berlin = pd.read_csv('./berlin_names.csv')"
   ]
  },
  {
   "cell_type": "code",
   "execution_count": 9,
   "metadata": {
    "collapsed": false,
    "deletable": true,
    "editable": true
   },
   "outputs": [],
   "source": [
    "persons = berlin['anzahl']"
   ]
  },
  {
   "cell_type": "code",
   "execution_count": 37,
   "metadata": {
    "collapsed": false,
    "deletable": true,
    "editable": true
   },
   "outputs": [],
   "source": [
    "class style:\n",
    "    REDB = '\\u001b[41;1m'\n",
    "    BOLD = '\\033[1m'\n",
    "    UNDERLINE = '\\033[4m'\n",
    "    RESET = '\\u001b[0m'\n",
    "    "
   ]
  },
  {
   "cell_type": "code",
   "execution_count": 38,
   "metadata": {
    "collapsed": false,
    "deletable": true,
    "editable": true
   },
   "outputs": [
    {
     "name": "stdout",
     "output_type": "stream",
     "text": [
      " The total of people in our database is of \u001b[41;1m69510\u001b[0m\n"
     ]
    }
   ],
   "source": [
    "total=0\n",
    "for num in persons:\n",
    "    total= total + num\n",
    "print (' The total of people in our database is of '+style.REDB+'{}'.format(total)+style.RESET)"
   ]
  },
  {
   "cell_type": "markdown",
   "metadata": {
    "deletable": true,
    "editable": true
   },
   "source": [
    "# Exercici 4"
   ]
  },
  {
   "cell_type": "markdown",
   "metadata": {
    "deletable": true,
    "editable": true
   },
   "source": [
    "Most common name in each neighbourhood"
   ]
  },
  {
   "cell_type": "code",
   "execution_count": null,
   "metadata": {
    "collapsed": false,
    "deletable": true,
    "editable": true
   },
   "outputs": [],
   "source": []
  },
  {
   "cell_type": "code",
   "execution_count": 13,
   "metadata": {
    "collapsed": false,
    "deletable": true,
    "editable": true
   },
   "outputs": [],
   "source": [
    "nb= berlin[berlin['bezirke']=='mitte']"
   ]
  },
  {
   "cell_type": "code",
   "execution_count": 14,
   "metadata": {
    "collapsed": false,
    "deletable": true,
    "editable": true
   },
   "outputs": [],
   "source": [
    "nbx=[]\n",
    "\n",
    "for i, row in nb.iterrows():\n",
    "    name= row [1]\n",
    "    number = row [2]\n",
    "    supertuplet=(name,number)\n",
    "    nbx.append (supertuplet)"
   ]
  },
  {
   "cell_type": "code",
   "execution_count": 15,
   "metadata": {
    "collapsed": false,
    "deletable": true,
    "editable": true
   },
   "outputs": [],
   "source": [
    "\n",
    "result = {}\n",
    "for name,number in nbx:\n",
    "        total = result.get(name,0) + number\n",
    "        result[name] = total\n",
    "\n",
    "\n",
    "improved_nb= (result.items())"
   ]
  },
  {
   "cell_type": "code",
   "execution_count": 16,
   "metadata": {
    "collapsed": false,
    "deletable": true,
    "editable": true
   },
   "outputs": [],
   "source": [
    "super_nb=[]\n",
    "\n",
    "for name,number in improved_nb:\n",
    "    againsupertuplet=(name,number)\n",
    "    super_nb.append(againsupertuplet)\n",
    "    "
   ]
  },
  {
   "cell_type": "code",
   "execution_count": 17,
   "metadata": {
    "collapsed": false,
    "deletable": true,
    "editable": true
   },
   "outputs": [],
   "source": [
    " df_nb = pd.DataFrame(super_nb)"
   ]
  },
  {
   "cell_type": "code",
   "execution_count": 18,
   "metadata": {
    "collapsed": false,
    "deletable": true,
    "editable": true
   },
   "outputs": [],
   "source": [
    "for i, row in df_nb.iterrows():\n",
    "    name= row [0]\n",
    "    number = row [1]\n",
    "    if i== 0:\n",
    "        biggest_name =name\n",
    "        biggest_number = number\n",
    "    else:\n",
    "        if number > biggest_number:\n",
    "            biggest_name =name\n",
    "            biggest_number = number"
   ]
  },
  {
   "cell_type": "code",
   "execution_count": 19,
   "metadata": {
    "collapsed": false,
    "deletable": true,
    "editable": true
   },
   "outputs": [
    {
     "data": {
      "text/plain": [
       "('Sophie', 69)"
      ]
     },
     "execution_count": 19,
     "metadata": {},
     "output_type": "execute_result"
    }
   ],
   "source": [
    "biggest_name,biggest_number"
   ]
  },
  {
   "cell_type": "markdown",
   "metadata": {
    "deletable": true,
    "editable": true
   },
   "source": [
    "Trying to make the superprogram"
   ]
  },
  {
   "cell_type": "code",
   "execution_count": 20,
   "metadata": {
    "collapsed": false,
    "deletable": true,
    "editable": true
   },
   "outputs": [],
   "source": [
    "def most_common ():\n",
    "\n",
    "    nb_list = berlin['bezirke'].unique()\n",
    "\n",
    "    for nb_name in nb_list:\n",
    "        nb= berlin[berlin['bezirke'] == nb_name]\n",
    "    \n",
    "        nbx=[]\n",
    "\n",
    "        for i, row in nb.iterrows():\n",
    "            name= row [1]\n",
    "            number = row [2]\n",
    "            supertuplet=(name,number)\n",
    "            nbx.append (supertuplet)\n",
    "    \n",
    "        result = {}\n",
    "    \n",
    "        for name,number in nbx:\n",
    "            total = result.get(name,0) + number\n",
    "            result[name] = total\n",
    "\n",
    "        improved_nb= (result.items())\n",
    "    \n",
    "        super_nb=[]\n",
    "\n",
    "        for name,number in improved_nb:\n",
    "            againsupertuplet=(name,number)\n",
    "            super_nb.append(againsupertuplet)\n",
    "        \n",
    "        df_nb = pd.DataFrame(super_nb)\n",
    "    \n",
    "        for i, row in df_nb.iterrows():\n",
    "            name= row [0]\n",
    "            number = row [1]\n",
    "            if i== 0:\n",
    "                biggest_name =name\n",
    "                biggest_number = number\n",
    "            else:\n",
    "                if number > biggest_number:\n",
    "                    biggest_name =name\n",
    "                    biggest_number = number\n",
    "    \n",
    "        print ('The name most common in {} is {}, with a total ammount of {}'.format(nb_name,biggest_name,biggest_number))"
   ]
  },
  {
   "cell_type": "code",
   "execution_count": 21,
   "metadata": {
    "collapsed": false,
    "deletable": true,
    "editable": true
   },
   "outputs": [
    {
     "name": "stdout",
     "output_type": "stream",
     "text": [
      "The name most common in friedrichshain-kreuzberg is Charlotte, with a total ammount of 64\n",
      "The name most common in tempelhof-schoeneberg is Marie, with a total ammount of 94\n",
      "The name most common in spandau is Sophie, with a total ammount of 64\n",
      "The name most common in mitte is Sophie, with a total ammount of 69\n",
      "The name most common in lichtenberg is Sophie, with a total ammount of 70\n",
      "The name most common in pankow is Marie, with a total ammount of 112\n",
      "The name most common in charlottenburg-wilmersdorf is Marie, with a total ammount of 111\n",
      "The name most common in reinickendorf is Marie, with a total ammount of 26\n",
      "The name most common in marzahn-hellersdorf is Marie, with a total ammount of 27\n",
      "The name most common in treptow-koepenick is Marie, with a total ammount of 21\n",
      "The name most common in steglitz-zehlendorf is Marie, with a total ammount of 23\n",
      "The name most common in neukoelln is Sophie, with a total ammount of 57\n"
     ]
    }
   ],
   "source": [
    "most_common()"
   ]
  },
  {
   "cell_type": "code",
   "execution_count": 22,
   "metadata": {
    "collapsed": false,
    "deletable": true,
    "editable": true
   },
   "outputs": [
    {
     "name": "stdout",
     "output_type": "stream",
     "text": [
      "The name most common in friedrichshain-kreuzberg is Charlotte, with a total ammount of 64\n",
      "The name most common in tempelhof-schoeneberg is Marie, with a total ammount of 94\n",
      "The name most common in spandau is Sophie, with a total ammount of 64\n",
      "The name most common in mitte is Sophie, with a total ammount of 69\n",
      "The name most common in lichtenberg is Sophie, with a total ammount of 70\n",
      "The name most common in pankow is Marie, with a total ammount of 112\n",
      "The name most common in charlottenburg-wilmersdorf is Marie, with a total ammount of 111\n",
      "The name most common in reinickendorf is Marie, with a total ammount of 26\n",
      "The name most common in marzahn-hellersdorf is Marie, with a total ammount of 27\n",
      "The name most common in treptow-koepenick is Marie, with a total ammount of 21\n",
      "The name most common in steglitz-zehlendorf is Marie, with a total ammount of 23\n",
      "The name most common in neukoelln is Sophie, with a total ammount of 57\n",
      "Wall time: 9.25 s\n"
     ]
    }
   ],
   "source": [
    "%time most_common()"
   ]
  },
  {
   "cell_type": "code",
   "execution_count": 23,
   "metadata": {
    "collapsed": false,
    "deletable": true,
    "editable": true
   },
   "outputs": [
    {
     "name": "stdout",
     "output_type": "stream",
     "text": [
      "Populating the interactive namespace from numpy and matplotlib\n"
     ]
    },
    {
     "name": "stderr",
     "output_type": "stream",
     "text": [
      "C:\\Users\\ReDi\\Anaconda3\\lib\\site-packages\\IPython\\core\\magics\\pylab.py:161: UserWarning: pylab import has clobbered these variables: ['number', 'style']\n",
      "`%matplotlib` prevents importing * from pylab and numpy\n",
      "  \"\\n`%matplotlib` prevents importing * from pylab and numpy\"\n"
     ]
    }
   ],
   "source": [
    "%pylab inline"
   ]
  },
  {
   "cell_type": "code",
   "execution_count": 24,
   "metadata": {
    "collapsed": false,
    "deletable": true,
    "editable": true
   },
   "outputs": [
    {
     "ename": "SyntaxError",
     "evalue": "invalid syntax (<ipython-input-24-5ce1df16768b>, line 50)",
     "output_type": "error",
     "traceback": [
      "\u001b[0;36m  File \u001b[0;32m\"<ipython-input-24-5ce1df16768b>\"\u001b[0;36m, line \u001b[0;32m50\u001b[0m\n\u001b[0;31m    fp.plot.\u001b[0m\n\u001b[0m            ^\u001b[0m\n\u001b[0;31mSyntaxError\u001b[0m\u001b[0;31m:\u001b[0m invalid syntax\n"
     ]
    }
   ],
   "source": [
    "def most_common2 ():\n",
    "\n",
    "    nb_list = berlin['bezirke'].unique()\n",
    "    finaltuplet=[]\n",
    "\n",
    "    for nb_name in nb_list:\n",
    "        nb= berlin[berlin['bezirke'] == nb_name]\n",
    "    \n",
    "        nbx=[]\n",
    "\n",
    "        for i, row in nb.iterrows():\n",
    "            name= row [1]\n",
    "            number = row [2]\n",
    "            supertuplet=(name,number)\n",
    "            nbx.append (supertuplet)\n",
    "    \n",
    "        result = {}\n",
    "    \n",
    "        for name,number in nbx:\n",
    "            total = result.get(name,0) + number\n",
    "            result[name] = total\n",
    "\n",
    "        improved_nb= (result.items())\n",
    "    \n",
    "        super_nb=[]\n",
    "\n",
    "        for name,number in improved_nb:\n",
    "            againsupertuplet=(name,number)\n",
    "            super_nb.append(againsupertuplet)\n",
    "        \n",
    "        df_nb = pd.DataFrame(super_nb)\n",
    "    \n",
    "        for i, row in df_nb.iterrows():\n",
    "            name= row [0]\n",
    "            number = row [1]\n",
    "            if i== 0:\n",
    "                biggest_name =name\n",
    "                biggest_number = number\n",
    "            else:\n",
    "                if number > biggest_number:\n",
    "                    biggest_name =name\n",
    "                    biggest_number = number\n",
    "    \n",
    "            preparingthetuplet = (nb_name,biggest_name,biggest_number)\n",
    "            finaltuplet.append(preparingthetuplet)\n",
    "    \n",
    "    finalpresentation = pd.DataFrame(finaltuplet)\n",
    "    fp=finalpresentation.drop_duplicates(take_last=True)\n",
    "    \n",
    "    fp.plot."
   ]
  },
  {
   "cell_type": "code",
   "execution_count": null,
   "metadata": {
    "collapsed": false,
    "deletable": true,
    "editable": true
   },
   "outputs": [],
   "source": [
    "most_common2()"
   ]
  },
  {
   "cell_type": "markdown",
   "metadata": {
    "deletable": true,
    "editable": true
   },
   "source": [
    "# Exercise 5"
   ]
  },
  {
   "cell_type": "code",
   "execution_count": 25,
   "metadata": {
    "collapsed": false,
    "deletable": true,
    "editable": true
   },
   "outputs": [],
   "source": [
    "gender= berlin['geschlecht']"
   ]
  },
  {
   "cell_type": "code",
   "execution_count": 26,
   "metadata": {
    "collapsed": false,
    "deletable": true,
    "editable": true
   },
   "outputs": [
    {
     "data": {
      "text/plain": [
       "array(['w', 'm'], dtype=object)"
      ]
     },
     "execution_count": 26,
     "metadata": {},
     "output_type": "execute_result"
    }
   ],
   "source": [
    "gender.unique()"
   ]
  },
  {
   "cell_type": "code",
   "execution_count": 27,
   "metadata": {
    "collapsed": true,
    "deletable": true,
    "editable": true
   },
   "outputs": [],
   "source": [
    "man= berlin[berlin['geschlecht']=='m']"
   ]
  },
  {
   "cell_type": "code",
   "execution_count": 28,
   "metadata": {
    "collapsed": true,
    "deletable": true,
    "editable": true
   },
   "outputs": [],
   "source": [
    "woman= berlin[berlin['geschlecht']=='w']"
   ]
  },
  {
   "cell_type": "code",
   "execution_count": 29,
   "metadata": {
    "collapsed": false,
    "deletable": true,
    "editable": true
   },
   "outputs": [],
   "source": [
    "totalman=man['anzahl']"
   ]
  },
  {
   "cell_type": "code",
   "execution_count": 30,
   "metadata": {
    "collapsed": true,
    "deletable": true,
    "editable": true
   },
   "outputs": [],
   "source": [
    "totalwoman=woman['anzahl']"
   ]
  },
  {
   "cell_type": "code",
   "execution_count": 31,
   "metadata": {
    "collapsed": false,
    "deletable": true,
    "editable": true
   },
   "outputs": [
    {
     "data": {
      "text/plain": [
       "35610"
      ]
     },
     "execution_count": 31,
     "metadata": {},
     "output_type": "execute_result"
    }
   ],
   "source": [
    "totalm=0\n",
    "for num in totalman:\n",
    "    totalm= totalm + num\n",
    "totalm"
   ]
  },
  {
   "cell_type": "code",
   "execution_count": 32,
   "metadata": {
    "collapsed": false,
    "deletable": true,
    "editable": true
   },
   "outputs": [
    {
     "data": {
      "text/plain": [
       "33900"
      ]
     },
     "execution_count": 32,
     "metadata": {},
     "output_type": "execute_result"
    }
   ],
   "source": [
    "totalw=0\n",
    "for num in totalwoman:\n",
    "    totalw= totalw + num\n",
    "totalw"
   ]
  },
  {
   "cell_type": "code",
   "execution_count": 33,
   "metadata": {
    "collapsed": false,
    "deletable": true,
    "editable": true
   },
   "outputs": [
    {
     "data": {
      "text/plain": [
       "69510"
      ]
     },
     "execution_count": 33,
     "metadata": {},
     "output_type": "execute_result"
    }
   ],
   "source": [
    "totalm+totalw"
   ]
  },
  {
   "cell_type": "code",
   "execution_count": null,
   "metadata": {
    "collapsed": true,
    "deletable": true,
    "editable": true
   },
   "outputs": [],
   "source": []
  }
 ],
 "metadata": {
  "kernelspec": {
   "display_name": "Python 3",
   "language": "python",
   "name": "python3"
  },
  "language_info": {
   "codemirror_mode": {
    "name": "ipython",
    "version": 3
   },
   "file_extension": ".py",
   "mimetype": "text/x-python",
   "name": "python",
   "nbconvert_exporter": "python",
   "pygments_lexer": "ipython3",
   "version": "3.5.2"
  }
 },
 "nbformat": 4,
 "nbformat_minor": 2
}
