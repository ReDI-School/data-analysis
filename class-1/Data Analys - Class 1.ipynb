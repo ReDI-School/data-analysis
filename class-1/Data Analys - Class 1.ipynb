{
 "cells": [
  {
   "cell_type": "markdown",
   "metadata": {
    "deletable": true,
    "editable": true
   },
   "source": [
    "# Data Analysis Course - Class 1"
   ]
  },
  {
   "cell_type": "markdown",
   "metadata": {
    "deletable": true,
    "editable": true
   },
   "source": [
    "* What is Data?\n",
    "* Data visualization Examples\n",
    "* Tools for the course\n",
    " * [Install Anaconda](#Install-Anaconda)\n",
    "* [Jupyter Notebook](#Jupyter-Notebook)\n",
    "* Homework"
   ]
  },
  {
   "cell_type": "markdown",
   "metadata": {
    "deletable": true,
    "editable": true
   },
   "source": [
    "## Install Anaconda"
   ]
  },
  {
   "cell_type": "markdown",
   "metadata": {
    "deletable": true,
    "editable": true
   },
   "source": [
    "We are going to use the computer language Python on this course, along with some other of its libraries and tools. One easy way of installing Python and its libraries is using [Anaconda](https://www.continuum.io/).\n",
    "\n",
    "Go in the link https://www.continuum.io/downloads and download the appropriate version for your computer. We are using Windows for the students laptops, than you just need to go to \"Download for Windows\" and click on Python 3.6 \"64-Bit Installer\"."
   ]
  },
  {
   "cell_type": "markdown",
   "metadata": {
    "deletable": true,
    "editable": true
   },
   "source": [
    "## Jupyter Notebook"
   ]
  },
  {
   "cell_type": "markdown",
   "metadata": {
    "deletable": true,
    "editable": true
   },
   "source": [
    "After you install Anaconda in your computer, you will have already installed the Python program Jupyter Notebook. Jupyter Notebook is a program that we are going to use in some of our Data Analysis classes. You will interact with Jupyter Notebook using a web browser like Firefox, Google Chrome or Microsoft Explorer/Edge. To start Jupyter Notebook, go to Windows Start menu or press the 'command' key on keyboard and type Jupyter. After this, just select Start Jupyet Notebook.\n",
    "\n",
    "If you are using Linux or a Mac, you can open a terminal program and type:\n",
    "\n",
    "    $ jupyter notebook\n",
    "    \n",
    "After you have done this, a window in your web browser will open like the image below:\n",
    "\n",
    "![Jupyter Listing Files and Folders](./images/jupyter-files.png)\n",
    "\n",
    "From this window you can see all the folders and files in the directory that Jupyter was opened. Files ending with '.ipynb' are Jupyter Notebooks files. If you click on one of these files, a new window will open showing the content of the notebook. You could change the content of the notebook, editing the content there or creating new content.\n",
    "\n",
    "If you want to create a new notebook, following the steps below:\n",
    "\n",
    "![Creating a new Notebook](./images/new-notebook.png)"
   ]
  },
  {
   "cell_type": "markdown",
   "metadata": {
    "deletable": true,
    "editable": true
   },
   "source": [
    "###  Inside a Notebook"
   ]
  },
  {
   "cell_type": "code",
   "execution_count": null,
   "metadata": {
    "collapsed": true,
    "deletable": true,
    "editable": true
   },
   "outputs": [],
   "source": []
  },
  {
   "cell_type": "markdown",
   "metadata": {
    "deletable": true,
    "editable": true
   },
   "source": [
    "## Homework"
   ]
  },
  {
   "cell_type": "markdown",
   "metadata": {
    "deletable": true,
    "editable": true
   },
   "source": [
    " * Follow the short course [\"A gentle introduction to cleaning data\"](https://schoolofdata.org/handbook/courses/data-cleaning/)"
   ]
  },
  {
   "cell_type": "code",
   "execution_count": null,
   "metadata": {
    "collapsed": true,
    "deletable": true,
    "editable": true
   },
   "outputs": [],
   "source": []
  }
 ],
 "metadata": {
  "kernelspec": {
   "display_name": "Python 3",
   "language": "python",
   "name": "python3"
  },
  "language_info": {
   "codemirror_mode": {
    "name": "ipython",
    "version": 3
   },
   "file_extension": ".py",
   "mimetype": "text/x-python",
   "name": "python",
   "nbconvert_exporter": "python",
   "pygments_lexer": "ipython3",
   "version": "3.5.2"
  }
 },
 "nbformat": 4,
 "nbformat_minor": 2
}
