{
 "cells": [
  {
   "cell_type": "code",
   "execution_count": 1,
   "metadata": {
    "collapsed": true,
    "deletable": true,
    "editable": true
   },
   "outputs": [],
   "source": [
    "# Load Pandas using the name pd\n",
    "\n",
    "import pandas as pd"
   ]
  },
  {
   "cell_type": "markdown",
   "metadata": {
    "deletable": true,
    "editable": true
   },
   "source": [
    "# Load our dataset"
   ]
  },
  {
   "cell_type": "code",
   "execution_count": 2,
   "metadata": {
    "collapsed": true,
    "deletable": true,
    "editable": true
   },
   "outputs": [],
   "source": [
    "berlin_names = pd.read_csv('./berlin_names.csv')"
   ]
  },
  {
   "cell_type": "markdown",
   "metadata": {
    "deletable": true,
    "editable": true
   },
   "source": [
    "# Let's look at some of its properties"
   ]
  },
  {
   "cell_type": "code",
   "execution_count": 3,
   "metadata": {
    "collapsed": false,
    "deletable": true,
    "editable": true
   },
   "outputs": [
    {
     "data": {
      "text/plain": [
       "(29078, 6)"
      ]
     },
     "execution_count": 3,
     "metadata": {},
     "output_type": "execute_result"
    }
   ],
   "source": [
    "# First the dimensions. The number os rows (29078) and columns (6)\n",
    "berlin_names.shape"
   ]
  },
  {
   "cell_type": "code",
   "execution_count": 4,
   "metadata": {
    "collapsed": false,
    "deletable": true,
    "editable": true
   },
   "outputs": [
    {
     "data": {
      "text/plain": [
       "Index(['Unnamed: 0', 'vorname', 'anzahl', 'geschlecht', 'bezirke',\n",
       "       'name length'],\n",
       "      dtype='object')"
      ]
     },
     "execution_count": 4,
     "metadata": {},
     "output_type": "execute_result"
    }
   ],
   "source": [
    "# Let's see the name of the columns\n",
    "berlin_names.columns"
   ]
  },
  {
   "cell_type": "code",
   "execution_count": 5,
   "metadata": {
    "collapsed": false,
    "deletable": true,
    "editable": true
   },
   "outputs": [],
   "source": [
    "# The 'Unnamed: 0' is not interesting for us (it has just the number of the lines). We can drop it.\n",
    "berlin_names = berlin_names.drop('Unnamed: 0', axis=1)\n",
    "\n",
    "# Notice that you need to assign again the new dataframe to the variable 'berlin_names', otherwise berlin_name \n",
    "# would still have the undesired column."
   ]
  },
  {
   "cell_type": "code",
   "execution_count": 6,
   "metadata": {
    "collapsed": false,
    "deletable": true,
    "editable": true
   },
   "outputs": [
    {
     "data": {
      "text/html": [
       "<div>\n",
       "<table border=\"1\" class=\"dataframe\">\n",
       "  <thead>\n",
       "    <tr style=\"text-align: right;\">\n",
       "      <th></th>\n",
       "      <th>vorname</th>\n",
       "      <th>anzahl</th>\n",
       "      <th>geschlecht</th>\n",
       "      <th>bezirke</th>\n",
       "      <th>name length</th>\n",
       "    </tr>\n",
       "  </thead>\n",
       "  <tbody>\n",
       "    <tr>\n",
       "      <th>0</th>\n",
       "      <td>Charlotte</td>\n",
       "      <td>64</td>\n",
       "      <td>w</td>\n",
       "      <td>friedrichshain-kreuzberg</td>\n",
       "      <td>9</td>\n",
       "    </tr>\n",
       "    <tr>\n",
       "      <th>1</th>\n",
       "      <td>Marie</td>\n",
       "      <td>51</td>\n",
       "      <td>w</td>\n",
       "      <td>friedrichshain-kreuzberg</td>\n",
       "      <td>5</td>\n",
       "    </tr>\n",
       "    <tr>\n",
       "      <th>2</th>\n",
       "      <td>Sophie</td>\n",
       "      <td>50</td>\n",
       "      <td>w</td>\n",
       "      <td>friedrichshain-kreuzberg</td>\n",
       "      <td>6</td>\n",
       "    </tr>\n",
       "    <tr>\n",
       "      <th>3</th>\n",
       "      <td>Anton</td>\n",
       "      <td>42</td>\n",
       "      <td>m</td>\n",
       "      <td>friedrichshain-kreuzberg</td>\n",
       "      <td>5</td>\n",
       "    </tr>\n",
       "    <tr>\n",
       "      <th>4</th>\n",
       "      <td>Emma</td>\n",
       "      <td>42</td>\n",
       "      <td>w</td>\n",
       "      <td>friedrichshain-kreuzberg</td>\n",
       "      <td>4</td>\n",
       "    </tr>\n",
       "  </tbody>\n",
       "</table>\n",
       "</div>"
      ],
      "text/plain": [
       "     vorname  anzahl geschlecht                   bezirke  name length\n",
       "0  Charlotte      64          w  friedrichshain-kreuzberg            9\n",
       "1      Marie      51          w  friedrichshain-kreuzberg            5\n",
       "2     Sophie      50          w  friedrichshain-kreuzberg            6\n",
       "3      Anton      42          m  friedrichshain-kreuzberg            5\n",
       "4       Emma      42          w  friedrichshain-kreuzberg            4"
      ]
     },
     "execution_count": 6,
     "metadata": {},
     "output_type": "execute_result"
    }
   ],
   "source": [
    "# Look to the first 5 rows\n",
    "berlin_names.head()"
   ]
  },
  {
   "cell_type": "code",
   "execution_count": 7,
   "metadata": {
    "collapsed": false,
    "deletable": true,
    "editable": true
   },
   "outputs": [
    {
     "data": {
      "text/html": [
       "<div>\n",
       "<table border=\"1\" class=\"dataframe\">\n",
       "  <thead>\n",
       "    <tr style=\"text-align: right;\">\n",
       "      <th></th>\n",
       "      <th>vorname</th>\n",
       "      <th>anzahl</th>\n",
       "      <th>geschlecht</th>\n",
       "      <th>bezirke</th>\n",
       "      <th>name length</th>\n",
       "    </tr>\n",
       "  </thead>\n",
       "  <tbody>\n",
       "    <tr>\n",
       "      <th>0</th>\n",
       "      <td>Charlotte</td>\n",
       "      <td>64</td>\n",
       "      <td>w</td>\n",
       "      <td>friedrichshain-kreuzberg</td>\n",
       "      <td>9</td>\n",
       "    </tr>\n",
       "    <tr>\n",
       "      <th>1</th>\n",
       "      <td>Marie</td>\n",
       "      <td>51</td>\n",
       "      <td>w</td>\n",
       "      <td>friedrichshain-kreuzberg</td>\n",
       "      <td>5</td>\n",
       "    </tr>\n",
       "    <tr>\n",
       "      <th>2</th>\n",
       "      <td>Sophie</td>\n",
       "      <td>50</td>\n",
       "      <td>w</td>\n",
       "      <td>friedrichshain-kreuzberg</td>\n",
       "      <td>6</td>\n",
       "    </tr>\n",
       "    <tr>\n",
       "      <th>3</th>\n",
       "      <td>Anton</td>\n",
       "      <td>42</td>\n",
       "      <td>m</td>\n",
       "      <td>friedrichshain-kreuzberg</td>\n",
       "      <td>5</td>\n",
       "    </tr>\n",
       "    <tr>\n",
       "      <th>4</th>\n",
       "      <td>Emma</td>\n",
       "      <td>42</td>\n",
       "      <td>w</td>\n",
       "      <td>friedrichshain-kreuzberg</td>\n",
       "      <td>4</td>\n",
       "    </tr>\n",
       "    <tr>\n",
       "      <th>5</th>\n",
       "      <td>Maria</td>\n",
       "      <td>42</td>\n",
       "      <td>w</td>\n",
       "      <td>friedrichshain-kreuzberg</td>\n",
       "      <td>5</td>\n",
       "    </tr>\n",
       "    <tr>\n",
       "      <th>6</th>\n",
       "      <td>Emil</td>\n",
       "      <td>41</td>\n",
       "      <td>m</td>\n",
       "      <td>friedrichshain-kreuzberg</td>\n",
       "      <td>4</td>\n",
       "    </tr>\n",
       "    <tr>\n",
       "      <th>7</th>\n",
       "      <td>Ali</td>\n",
       "      <td>40</td>\n",
       "      <td>m</td>\n",
       "      <td>friedrichshain-kreuzberg</td>\n",
       "      <td>3</td>\n",
       "    </tr>\n",
       "    <tr>\n",
       "      <th>8</th>\n",
       "      <td>Alexander</td>\n",
       "      <td>39</td>\n",
       "      <td>m</td>\n",
       "      <td>friedrichshain-kreuzberg</td>\n",
       "      <td>9</td>\n",
       "    </tr>\n",
       "    <tr>\n",
       "      <th>9</th>\n",
       "      <td>Anna</td>\n",
       "      <td>39</td>\n",
       "      <td>w</td>\n",
       "      <td>friedrichshain-kreuzberg</td>\n",
       "      <td>4</td>\n",
       "    </tr>\n",
       "    <tr>\n",
       "      <th>10</th>\n",
       "      <td>Leon</td>\n",
       "      <td>37</td>\n",
       "      <td>m</td>\n",
       "      <td>friedrichshain-kreuzberg</td>\n",
       "      <td>4</td>\n",
       "    </tr>\n",
       "  </tbody>\n",
       "</table>\n",
       "</div>"
      ],
      "text/plain": [
       "      vorname  anzahl geschlecht                   bezirke  name length\n",
       "0   Charlotte      64          w  friedrichshain-kreuzberg            9\n",
       "1       Marie      51          w  friedrichshain-kreuzberg            5\n",
       "2      Sophie      50          w  friedrichshain-kreuzberg            6\n",
       "3       Anton      42          m  friedrichshain-kreuzberg            5\n",
       "4        Emma      42          w  friedrichshain-kreuzberg            4\n",
       "5       Maria      42          w  friedrichshain-kreuzberg            5\n",
       "6        Emil      41          m  friedrichshain-kreuzberg            4\n",
       "7         Ali      40          m  friedrichshain-kreuzberg            3\n",
       "8   Alexander      39          m  friedrichshain-kreuzberg            9\n",
       "9        Anna      39          w  friedrichshain-kreuzberg            4\n",
       "10       Leon      37          m  friedrichshain-kreuzberg            4"
      ]
     },
     "execution_count": 7,
     "metadata": {},
     "output_type": "execute_result"
    }
   ],
   "source": [
    "# Or to the first N rows, passing a numeric argument to head method\n",
    "N = 11\n",
    "berlin_names.head(N)"
   ]
  },
  {
   "cell_type": "code",
   "execution_count": 8,
   "metadata": {
    "collapsed": false,
    "deletable": true,
    "editable": true
   },
   "outputs": [
    {
     "data": {
      "text/html": [
       "<div>\n",
       "<table border=\"1\" class=\"dataframe\">\n",
       "  <thead>\n",
       "    <tr style=\"text-align: right;\">\n",
       "      <th></th>\n",
       "      <th>vorname</th>\n",
       "      <th>anzahl</th>\n",
       "      <th>geschlecht</th>\n",
       "      <th>bezirke</th>\n",
       "      <th>name length</th>\n",
       "    </tr>\n",
       "  </thead>\n",
       "  <tbody>\n",
       "    <tr>\n",
       "      <th>29073</th>\n",
       "      <td>Öykü</td>\n",
       "      <td>1</td>\n",
       "      <td>w</td>\n",
       "      <td>neukoelln</td>\n",
       "      <td>4</td>\n",
       "    </tr>\n",
       "    <tr>\n",
       "      <th>29074</th>\n",
       "      <td>Özlem</td>\n",
       "      <td>1</td>\n",
       "      <td>w</td>\n",
       "      <td>neukoelln</td>\n",
       "      <td>5</td>\n",
       "    </tr>\n",
       "    <tr>\n",
       "      <th>29075</th>\n",
       "      <td>Đeni</td>\n",
       "      <td>1</td>\n",
       "      <td>w</td>\n",
       "      <td>neukoelln</td>\n",
       "      <td>4</td>\n",
       "    </tr>\n",
       "    <tr>\n",
       "      <th>29076</th>\n",
       "      <td>Şeyma</td>\n",
       "      <td>1</td>\n",
       "      <td>w</td>\n",
       "      <td>neukoelln</td>\n",
       "      <td>5</td>\n",
       "    </tr>\n",
       "    <tr>\n",
       "      <th>29077</th>\n",
       "      <td>Ștefania</td>\n",
       "      <td>1</td>\n",
       "      <td>w</td>\n",
       "      <td>neukoelln</td>\n",
       "      <td>8</td>\n",
       "    </tr>\n",
       "  </tbody>\n",
       "</table>\n",
       "</div>"
      ],
      "text/plain": [
       "        vorname  anzahl geschlecht    bezirke  name length\n",
       "29073      Öykü       1          w  neukoelln            4\n",
       "29074     Özlem       1          w  neukoelln            5\n",
       "29075      Đeni       1          w  neukoelln            4\n",
       "29076     Şeyma       1          w  neukoelln            5\n",
       "29077  Ștefania       1          w  neukoelln            8"
      ]
     },
     "execution_count": 8,
     "metadata": {},
     "output_type": "execute_result"
    }
   ],
   "source": [
    "# You can look at the last 5 rows of your dataset too with the method tail:\n",
    "berlin_names.tail()"
   ]
  },
  {
   "cell_type": "code",
   "execution_count": 9,
   "metadata": {
    "collapsed": false,
    "deletable": true,
    "editable": true
   },
   "outputs": [
    {
     "data": {
      "text/plain": [
       "vorname        object\n",
       "anzahl          int64\n",
       "geschlecht     object\n",
       "bezirke        object\n",
       "name length     int64\n",
       "dtype: object"
      ]
     },
     "execution_count": 9,
     "metadata": {},
     "output_type": "execute_result"
    }
   ],
   "source": [
    "# The types of our columns. Pandas use 'object' for strings (textual data), int64 for integers (1, 2, 3...), \n",
    "# float64 for real numbers (3.1415...)\n",
    "berlin_names.dtypes"
   ]
  },
  {
   "cell_type": "code",
   "execution_count": 10,
   "metadata": {
    "collapsed": false,
    "deletable": true,
    "editable": true
   },
   "outputs": [
    {
     "data": {
      "text/plain": [
       "RangeIndex(start=0, stop=29078, step=1)"
      ]
     },
     "execution_count": 10,
     "metadata": {},
     "output_type": "execute_result"
    }
   ],
   "source": [
    "# This show the index of our data. Our data is indexed by line number, in this case, a RangeIndex pandas object\n",
    "berlin_names.index"
   ]
  },
  {
   "cell_type": "markdown",
   "metadata": {
    "deletable": true,
    "editable": true
   },
   "source": [
    "# Some basic statistics"
   ]
  },
  {
   "cell_type": "code",
   "execution_count": 11,
   "metadata": {
    "collapsed": false,
    "deletable": true,
    "editable": true
   },
   "outputs": [
    {
     "data": {
      "text/html": [
       "<div>\n",
       "<table border=\"1\" class=\"dataframe\">\n",
       "  <thead>\n",
       "    <tr style=\"text-align: right;\">\n",
       "      <th></th>\n",
       "      <th>anzahl</th>\n",
       "      <th>name length</th>\n",
       "    </tr>\n",
       "  </thead>\n",
       "  <tbody>\n",
       "    <tr>\n",
       "      <th>count</th>\n",
       "      <td>29078.000000</td>\n",
       "      <td>29078.000000</td>\n",
       "    </tr>\n",
       "    <tr>\n",
       "      <th>mean</th>\n",
       "      <td>2.390467</td>\n",
       "      <td>5.857556</td>\n",
       "    </tr>\n",
       "    <tr>\n",
       "      <th>std</th>\n",
       "      <td>4.516186</td>\n",
       "      <td>1.937816</td>\n",
       "    </tr>\n",
       "    <tr>\n",
       "      <th>min</th>\n",
       "      <td>1.000000</td>\n",
       "      <td>1.000000</td>\n",
       "    </tr>\n",
       "    <tr>\n",
       "      <th>25%</th>\n",
       "      <td>1.000000</td>\n",
       "      <td>5.000000</td>\n",
       "    </tr>\n",
       "    <tr>\n",
       "      <th>50%</th>\n",
       "      <td>1.000000</td>\n",
       "      <td>5.000000</td>\n",
       "    </tr>\n",
       "    <tr>\n",
       "      <th>75%</th>\n",
       "      <td>2.000000</td>\n",
       "      <td>7.000000</td>\n",
       "    </tr>\n",
       "    <tr>\n",
       "      <th>max</th>\n",
       "      <td>112.000000</td>\n",
       "      <td>19.000000</td>\n",
       "    </tr>\n",
       "  </tbody>\n",
       "</table>\n",
       "</div>"
      ],
      "text/plain": [
       "             anzahl   name length\n",
       "count  29078.000000  29078.000000\n",
       "mean       2.390467      5.857556\n",
       "std        4.516186      1.937816\n",
       "min        1.000000      1.000000\n",
       "25%        1.000000      5.000000\n",
       "50%        1.000000      5.000000\n",
       "75%        2.000000      7.000000\n",
       "max      112.000000     19.000000"
      ]
     },
     "execution_count": 11,
     "metadata": {},
     "output_type": "execute_result"
    }
   ],
   "source": [
    "berlin_names.describe()"
   ]
  },
  {
   "cell_type": "markdown",
   "metadata": {
    "deletable": true,
    "editable": true
   },
   "source": [
    "**anzahl** is the number of persosn with a given name. The mean 2.39, signifies that in average a name have a little bit more than two persons with it living in Berlin.\n",
    "\n",
    "On average, the **name length** is 5.85 letters.\n",
    "\n",
    "The maximum number of persons with the same name is 112, and the longest name has 19 letters."
   ]
  },
  {
   "cell_type": "markdown",
   "metadata": {
    "deletable": true,
    "editable": true
   },
   "source": [
    "# Accessing our data"
   ]
  },
  {
   "cell_type": "code",
   "execution_count": 12,
   "metadata": {
    "collapsed": false,
    "deletable": true,
    "editable": true
   },
   "outputs": [
    {
     "data": {
      "text/plain": [
       "vorname                       Charlotte\n",
       "anzahl                               64\n",
       "geschlecht                            w\n",
       "bezirke        friedrichshain-kreuzberg\n",
       "name length                           9\n",
       "Name: 0, dtype: object"
      ]
     },
     "execution_count": 12,
     "metadata": {},
     "output_type": "execute_result"
    }
   ],
   "source": [
    "# Just pass to iloc the row number\n",
    "berlin_names.iloc[0]"
   ]
  },
  {
   "cell_type": "code",
   "execution_count": 13,
   "metadata": {
    "collapsed": false,
    "deletable": true,
    "editable": true,
    "scrolled": true
   },
   "outputs": [
    {
     "data": {
      "text/plain": [
       "0               Charlotte\n",
       "1                   Marie\n",
       "2                  Sophie\n",
       "3                   Anton\n",
       "4                    Emma\n",
       "5                   Maria\n",
       "6                    Emil\n",
       "7                     Ali\n",
       "8               Alexander\n",
       "9                    Anna\n",
       "10                   Leon\n",
       "11                    Mia\n",
       "12                  Elias\n",
       "13                   Karl\n",
       "14                   Paul\n",
       "15                  Oskar\n",
       "16                  Luise\n",
       "17                  Felix\n",
       "18                   Ella\n",
       "19                   Noah\n",
       "20                Johanna\n",
       "21                  Henry\n",
       "22                  Jonas\n",
       "23                  Paula\n",
       "24               Jonathan\n",
       "25             Maximilian\n",
       "26                 Emilia\n",
       "27                   Mira\n",
       "28                  Jakob\n",
       "29               Valentin\n",
       "               ...       \n",
       "29048               Çinar\n",
       "29049              Yvaine\n",
       "29050          Ömer-İlkan\n",
       "29051              Zaynab\n",
       "29052                Đình\n",
       "29053    Zeinab-Seraphine\n",
       "29054             Živorad\n",
       "29055                Zena\n",
       "29056             Zenobia\n",
       "29057               Zerda\n",
       "29058               Zerde\n",
       "29059              Zeynab\n",
       "29060              Zeyneb\n",
       "29061             Zheniya\n",
       "29062                Zina\n",
       "29063            Zina-Zoe\n",
       "29064                Ziva\n",
       "29065                Zoey\n",
       "29066                 Zoi\n",
       "29067               Zumra\n",
       "29068             Zübeyde\n",
       "29069             Züleyha\n",
       "29070               Zümra\n",
       "29071               Çilay\n",
       "29072             Ìllìvna\n",
       "29073                Öykü\n",
       "29074               Özlem\n",
       "29075                Đeni\n",
       "29076               Şeyma\n",
       "29077            Ștefania\n",
       "Name: vorname, dtype: object"
      ]
     },
     "execution_count": 13,
     "metadata": {},
     "output_type": "execute_result"
    }
   ],
   "source": [
    "# If you want to see all the content in a column, just pass the column name like:\n",
    "berlin_names['vorname']"
   ]
  },
  {
   "cell_type": "code",
   "execution_count": 14,
   "metadata": {
    "collapsed": false,
    "deletable": true,
    "editable": true
   },
   "outputs": [
    {
     "data": {
      "text/html": [
       "<div>\n",
       "<table border=\"1\" class=\"dataframe\">\n",
       "  <thead>\n",
       "    <tr style=\"text-align: right;\">\n",
       "      <th></th>\n",
       "      <th>vorname</th>\n",
       "      <th>anzahl</th>\n",
       "      <th>geschlecht</th>\n",
       "      <th>bezirke</th>\n",
       "      <th>name length</th>\n",
       "    </tr>\n",
       "  </thead>\n",
       "  <tbody>\n",
       "    <tr>\n",
       "      <th>0</th>\n",
       "      <td>Charlotte</td>\n",
       "      <td>64</td>\n",
       "      <td>w</td>\n",
       "      <td>friedrichshain-kreuzberg</td>\n",
       "      <td>9</td>\n",
       "    </tr>\n",
       "    <tr>\n",
       "      <th>1</th>\n",
       "      <td>Marie</td>\n",
       "      <td>51</td>\n",
       "      <td>w</td>\n",
       "      <td>friedrichshain-kreuzberg</td>\n",
       "      <td>5</td>\n",
       "    </tr>\n",
       "    <tr>\n",
       "      <th>2</th>\n",
       "      <td>Sophie</td>\n",
       "      <td>50</td>\n",
       "      <td>w</td>\n",
       "      <td>friedrichshain-kreuzberg</td>\n",
       "      <td>6</td>\n",
       "    </tr>\n",
       "    <tr>\n",
       "      <th>3</th>\n",
       "      <td>Anton</td>\n",
       "      <td>42</td>\n",
       "      <td>m</td>\n",
       "      <td>friedrichshain-kreuzberg</td>\n",
       "      <td>5</td>\n",
       "    </tr>\n",
       "    <tr>\n",
       "      <th>4</th>\n",
       "      <td>Emma</td>\n",
       "      <td>42</td>\n",
       "      <td>w</td>\n",
       "      <td>friedrichshain-kreuzberg</td>\n",
       "      <td>4</td>\n",
       "    </tr>\n",
       "    <tr>\n",
       "      <th>5</th>\n",
       "      <td>Maria</td>\n",
       "      <td>42</td>\n",
       "      <td>w</td>\n",
       "      <td>friedrichshain-kreuzberg</td>\n",
       "      <td>5</td>\n",
       "    </tr>\n",
       "    <tr>\n",
       "      <th>6</th>\n",
       "      <td>Emil</td>\n",
       "      <td>41</td>\n",
       "      <td>m</td>\n",
       "      <td>friedrichshain-kreuzberg</td>\n",
       "      <td>4</td>\n",
       "    </tr>\n",
       "    <tr>\n",
       "      <th>7</th>\n",
       "      <td>Ali</td>\n",
       "      <td>40</td>\n",
       "      <td>m</td>\n",
       "      <td>friedrichshain-kreuzberg</td>\n",
       "      <td>3</td>\n",
       "    </tr>\n",
       "    <tr>\n",
       "      <th>8</th>\n",
       "      <td>Alexander</td>\n",
       "      <td>39</td>\n",
       "      <td>m</td>\n",
       "      <td>friedrichshain-kreuzberg</td>\n",
       "      <td>9</td>\n",
       "    </tr>\n",
       "    <tr>\n",
       "      <th>9</th>\n",
       "      <td>Anna</td>\n",
       "      <td>39</td>\n",
       "      <td>w</td>\n",
       "      <td>friedrichshain-kreuzberg</td>\n",
       "      <td>4</td>\n",
       "    </tr>\n",
       "  </tbody>\n",
       "</table>\n",
       "</div>"
      ],
      "text/plain": [
       "     vorname  anzahl geschlecht                   bezirke  name length\n",
       "0  Charlotte      64          w  friedrichshain-kreuzberg            9\n",
       "1      Marie      51          w  friedrichshain-kreuzberg            5\n",
       "2     Sophie      50          w  friedrichshain-kreuzberg            6\n",
       "3      Anton      42          m  friedrichshain-kreuzberg            5\n",
       "4       Emma      42          w  friedrichshain-kreuzberg            4\n",
       "5      Maria      42          w  friedrichshain-kreuzberg            5\n",
       "6       Emil      41          m  friedrichshain-kreuzberg            4\n",
       "7        Ali      40          m  friedrichshain-kreuzberg            3\n",
       "8  Alexander      39          m  friedrichshain-kreuzberg            9\n",
       "9       Anna      39          w  friedrichshain-kreuzberg            4"
      ]
     },
     "execution_count": 14,
     "metadata": {},
     "output_type": "execute_result"
    }
   ],
   "source": [
    "# You can access more than one row at the same time, giving a range like 0:10, meaning 'from 0 to 10':\n",
    "berlin_names[0:10]"
   ]
  },
  {
   "cell_type": "markdown",
   "metadata": {
    "deletable": true,
    "editable": true
   },
   "source": [
    "# Filtering your data"
   ]
  },
  {
   "cell_type": "code",
   "execution_count": 15,
   "metadata": {
    "collapsed": false,
    "deletable": true,
    "editable": true,
    "scrolled": true
   },
   "outputs": [
    {
     "data": {
      "text/plain": [
       "0         True\n",
       "1         True\n",
       "2         True\n",
       "3         True\n",
       "4         True\n",
       "5         True\n",
       "6         True\n",
       "7        False\n",
       "8        False\n",
       "9        False\n",
       "10       False\n",
       "11       False\n",
       "12       False\n",
       "13       False\n",
       "14       False\n",
       "15       False\n",
       "16       False\n",
       "17       False\n",
       "18       False\n",
       "19       False\n",
       "20       False\n",
       "21       False\n",
       "22       False\n",
       "23       False\n",
       "24       False\n",
       "25       False\n",
       "26       False\n",
       "27       False\n",
       "28       False\n",
       "29       False\n",
       "         ...  \n",
       "29048    False\n",
       "29049    False\n",
       "29050    False\n",
       "29051    False\n",
       "29052    False\n",
       "29053    False\n",
       "29054    False\n",
       "29055    False\n",
       "29056    False\n",
       "29057    False\n",
       "29058    False\n",
       "29059    False\n",
       "29060    False\n",
       "29061    False\n",
       "29062    False\n",
       "29063    False\n",
       "29064    False\n",
       "29065    False\n",
       "29066    False\n",
       "29067    False\n",
       "29068    False\n",
       "29069    False\n",
       "29070    False\n",
       "29071    False\n",
       "29072    False\n",
       "29073    False\n",
       "29074    False\n",
       "29075    False\n",
       "29076    False\n",
       "29077    False\n",
       "Name: anzahl, dtype: bool"
      ]
     },
     "execution_count": 15,
     "metadata": {},
     "output_type": "execute_result"
    }
   ],
   "source": [
    "# This returns a new Pandas object (Series), just with values True or False, for each row that\n",
    "# has or hasn't respectively, the property that yor are testing. In the case below, rows with\n",
    "# 'anzahl' bigger than 40:\n",
    "berlin_names['anzahl'] > 40"
   ]
  },
  {
   "cell_type": "code",
   "execution_count": 16,
   "metadata": {
    "collapsed": true,
    "deletable": true,
    "editable": true
   },
   "outputs": [],
   "source": [
    "# You can save this series and...\n",
    "more_than_40 = berlin_names['anzahl'] > 40"
   ]
  },
  {
   "cell_type": "code",
   "execution_count": 17,
   "metadata": {
    "collapsed": false,
    "deletable": true,
    "editable": true
   },
   "outputs": [
    {
     "data": {
      "text/html": [
       "<div>\n",
       "<table border=\"1\" class=\"dataframe\">\n",
       "  <thead>\n",
       "    <tr style=\"text-align: right;\">\n",
       "      <th></th>\n",
       "      <th>vorname</th>\n",
       "      <th>anzahl</th>\n",
       "      <th>geschlecht</th>\n",
       "      <th>bezirke</th>\n",
       "      <th>name length</th>\n",
       "    </tr>\n",
       "  </thead>\n",
       "  <tbody>\n",
       "    <tr>\n",
       "      <th>0</th>\n",
       "      <td>Charlotte</td>\n",
       "      <td>64</td>\n",
       "      <td>w</td>\n",
       "      <td>friedrichshain-kreuzberg</td>\n",
       "      <td>9</td>\n",
       "    </tr>\n",
       "    <tr>\n",
       "      <th>1</th>\n",
       "      <td>Marie</td>\n",
       "      <td>51</td>\n",
       "      <td>w</td>\n",
       "      <td>friedrichshain-kreuzberg</td>\n",
       "      <td>5</td>\n",
       "    </tr>\n",
       "    <tr>\n",
       "      <th>2</th>\n",
       "      <td>Sophie</td>\n",
       "      <td>50</td>\n",
       "      <td>w</td>\n",
       "      <td>friedrichshain-kreuzberg</td>\n",
       "      <td>6</td>\n",
       "    </tr>\n",
       "    <tr>\n",
       "      <th>3</th>\n",
       "      <td>Anton</td>\n",
       "      <td>42</td>\n",
       "      <td>m</td>\n",
       "      <td>friedrichshain-kreuzberg</td>\n",
       "      <td>5</td>\n",
       "    </tr>\n",
       "    <tr>\n",
       "      <th>4</th>\n",
       "      <td>Emma</td>\n",
       "      <td>42</td>\n",
       "      <td>w</td>\n",
       "      <td>friedrichshain-kreuzberg</td>\n",
       "      <td>4</td>\n",
       "    </tr>\n",
       "    <tr>\n",
       "      <th>5</th>\n",
       "      <td>Maria</td>\n",
       "      <td>42</td>\n",
       "      <td>w</td>\n",
       "      <td>friedrichshain-kreuzberg</td>\n",
       "      <td>5</td>\n",
       "    </tr>\n",
       "    <tr>\n",
       "      <th>6</th>\n",
       "      <td>Emil</td>\n",
       "      <td>41</td>\n",
       "      <td>m</td>\n",
       "      <td>friedrichshain-kreuzberg</td>\n",
       "      <td>4</td>\n",
       "    </tr>\n",
       "    <tr>\n",
       "      <th>3520</th>\n",
       "      <td>Marie</td>\n",
       "      <td>94</td>\n",
       "      <td>w</td>\n",
       "      <td>tempelhof-schoeneberg</td>\n",
       "      <td>5</td>\n",
       "    </tr>\n",
       "    <tr>\n",
       "      <th>3521</th>\n",
       "      <td>Sophie</td>\n",
       "      <td>89</td>\n",
       "      <td>w</td>\n",
       "      <td>tempelhof-schoeneberg</td>\n",
       "      <td>6</td>\n",
       "    </tr>\n",
       "    <tr>\n",
       "      <th>3522</th>\n",
       "      <td>Maria</td>\n",
       "      <td>82</td>\n",
       "      <td>w</td>\n",
       "      <td>tempelhof-schoeneberg</td>\n",
       "      <td>5</td>\n",
       "    </tr>\n",
       "    <tr>\n",
       "      <th>3523</th>\n",
       "      <td>Alexander</td>\n",
       "      <td>73</td>\n",
       "      <td>m</td>\n",
       "      <td>tempelhof-schoeneberg</td>\n",
       "      <td>9</td>\n",
       "    </tr>\n",
       "    <tr>\n",
       "      <th>3524</th>\n",
       "      <td>Charlotte</td>\n",
       "      <td>63</td>\n",
       "      <td>w</td>\n",
       "      <td>tempelhof-schoeneberg</td>\n",
       "      <td>9</td>\n",
       "    </tr>\n",
       "    <tr>\n",
       "      <th>3525</th>\n",
       "      <td>Emilia</td>\n",
       "      <td>60</td>\n",
       "      <td>w</td>\n",
       "      <td>tempelhof-schoeneberg</td>\n",
       "      <td>6</td>\n",
       "    </tr>\n",
       "    <tr>\n",
       "      <th>3526</th>\n",
       "      <td>Paul</td>\n",
       "      <td>56</td>\n",
       "      <td>m</td>\n",
       "      <td>tempelhof-schoeneberg</td>\n",
       "      <td>4</td>\n",
       "    </tr>\n",
       "    <tr>\n",
       "      <th>3527</th>\n",
       "      <td>Emma</td>\n",
       "      <td>54</td>\n",
       "      <td>w</td>\n",
       "      <td>tempelhof-schoeneberg</td>\n",
       "      <td>4</td>\n",
       "    </tr>\n",
       "    <tr>\n",
       "      <th>3528</th>\n",
       "      <td>Sophia</td>\n",
       "      <td>52</td>\n",
       "      <td>w</td>\n",
       "      <td>tempelhof-schoeneberg</td>\n",
       "      <td>6</td>\n",
       "    </tr>\n",
       "    <tr>\n",
       "      <th>3529</th>\n",
       "      <td>Elias</td>\n",
       "      <td>49</td>\n",
       "      <td>m</td>\n",
       "      <td>tempelhof-schoeneberg</td>\n",
       "      <td>5</td>\n",
       "    </tr>\n",
       "    <tr>\n",
       "      <th>3530</th>\n",
       "      <td>Emil</td>\n",
       "      <td>49</td>\n",
       "      <td>m</td>\n",
       "      <td>tempelhof-schoeneberg</td>\n",
       "      <td>4</td>\n",
       "    </tr>\n",
       "    <tr>\n",
       "      <th>3531</th>\n",
       "      <td>Maximilian</td>\n",
       "      <td>49</td>\n",
       "      <td>m</td>\n",
       "      <td>tempelhof-schoeneberg</td>\n",
       "      <td>10</td>\n",
       "    </tr>\n",
       "    <tr>\n",
       "      <th>3532</th>\n",
       "      <td>Oskar</td>\n",
       "      <td>46</td>\n",
       "      <td>m</td>\n",
       "      <td>tempelhof-schoeneberg</td>\n",
       "      <td>5</td>\n",
       "    </tr>\n",
       "    <tr>\n",
       "      <th>3533</th>\n",
       "      <td>Felix</td>\n",
       "      <td>44</td>\n",
       "      <td>m</td>\n",
       "      <td>tempelhof-schoeneberg</td>\n",
       "      <td>5</td>\n",
       "    </tr>\n",
       "    <tr>\n",
       "      <th>3534</th>\n",
       "      <td>Noah</td>\n",
       "      <td>44</td>\n",
       "      <td>m</td>\n",
       "      <td>tempelhof-schoeneberg</td>\n",
       "      <td>4</td>\n",
       "    </tr>\n",
       "    <tr>\n",
       "      <th>3535</th>\n",
       "      <td>Luise</td>\n",
       "      <td>42</td>\n",
       "      <td>w</td>\n",
       "      <td>tempelhof-schoeneberg</td>\n",
       "      <td>5</td>\n",
       "    </tr>\n",
       "    <tr>\n",
       "      <th>3536</th>\n",
       "      <td>Jakob</td>\n",
       "      <td>41</td>\n",
       "      <td>m</td>\n",
       "      <td>tempelhof-schoeneberg</td>\n",
       "      <td>5</td>\n",
       "    </tr>\n",
       "    <tr>\n",
       "      <th>3537</th>\n",
       "      <td>Anna</td>\n",
       "      <td>41</td>\n",
       "      <td>w</td>\n",
       "      <td>tempelhof-schoeneberg</td>\n",
       "      <td>4</td>\n",
       "    </tr>\n",
       "    <tr>\n",
       "      <th>7156</th>\n",
       "      <td>Sophie</td>\n",
       "      <td>64</td>\n",
       "      <td>w</td>\n",
       "      <td>spandau</td>\n",
       "      <td>6</td>\n",
       "    </tr>\n",
       "    <tr>\n",
       "      <th>7157</th>\n",
       "      <td>Marie</td>\n",
       "      <td>58</td>\n",
       "      <td>w</td>\n",
       "      <td>spandau</td>\n",
       "      <td>5</td>\n",
       "    </tr>\n",
       "    <tr>\n",
       "      <th>7158</th>\n",
       "      <td>Alexander</td>\n",
       "      <td>45</td>\n",
       "      <td>m</td>\n",
       "      <td>spandau</td>\n",
       "      <td>9</td>\n",
       "    </tr>\n",
       "    <tr>\n",
       "      <th>7159</th>\n",
       "      <td>Charlotte</td>\n",
       "      <td>45</td>\n",
       "      <td>w</td>\n",
       "      <td>spandau</td>\n",
       "      <td>9</td>\n",
       "    </tr>\n",
       "    <tr>\n",
       "      <th>9709</th>\n",
       "      <td>Sophie</td>\n",
       "      <td>69</td>\n",
       "      <td>w</td>\n",
       "      <td>mitte</td>\n",
       "      <td>6</td>\n",
       "    </tr>\n",
       "    <tr>\n",
       "      <th>...</th>\n",
       "      <td>...</td>\n",
       "      <td>...</td>\n",
       "      <td>...</td>\n",
       "      <td>...</td>\n",
       "      <td>...</td>\n",
       "    </tr>\n",
       "    <tr>\n",
       "      <th>15750</th>\n",
       "      <td>Paul</td>\n",
       "      <td>57</td>\n",
       "      <td>m</td>\n",
       "      <td>pankow</td>\n",
       "      <td>4</td>\n",
       "    </tr>\n",
       "    <tr>\n",
       "      <th>15751</th>\n",
       "      <td>Maximilian</td>\n",
       "      <td>51</td>\n",
       "      <td>m</td>\n",
       "      <td>pankow</td>\n",
       "      <td>10</td>\n",
       "    </tr>\n",
       "    <tr>\n",
       "      <th>15752</th>\n",
       "      <td>Mia</td>\n",
       "      <td>49</td>\n",
       "      <td>w</td>\n",
       "      <td>pankow</td>\n",
       "      <td>3</td>\n",
       "    </tr>\n",
       "    <tr>\n",
       "      <th>15753</th>\n",
       "      <td>Oskar</td>\n",
       "      <td>47</td>\n",
       "      <td>m</td>\n",
       "      <td>pankow</td>\n",
       "      <td>5</td>\n",
       "    </tr>\n",
       "    <tr>\n",
       "      <th>15754</th>\n",
       "      <td>Johanna</td>\n",
       "      <td>47</td>\n",
       "      <td>w</td>\n",
       "      <td>pankow</td>\n",
       "      <td>7</td>\n",
       "    </tr>\n",
       "    <tr>\n",
       "      <th>15755</th>\n",
       "      <td>Emilia</td>\n",
       "      <td>45</td>\n",
       "      <td>w</td>\n",
       "      <td>pankow</td>\n",
       "      <td>6</td>\n",
       "    </tr>\n",
       "    <tr>\n",
       "      <th>15756</th>\n",
       "      <td>Emma</td>\n",
       "      <td>44</td>\n",
       "      <td>w</td>\n",
       "      <td>pankow</td>\n",
       "      <td>4</td>\n",
       "    </tr>\n",
       "    <tr>\n",
       "      <th>15757</th>\n",
       "      <td>Maria</td>\n",
       "      <td>44</td>\n",
       "      <td>w</td>\n",
       "      <td>pankow</td>\n",
       "      <td>5</td>\n",
       "    </tr>\n",
       "    <tr>\n",
       "      <th>15758</th>\n",
       "      <td>Emil</td>\n",
       "      <td>43</td>\n",
       "      <td>m</td>\n",
       "      <td>pankow</td>\n",
       "      <td>4</td>\n",
       "    </tr>\n",
       "    <tr>\n",
       "      <th>15759</th>\n",
       "      <td>Theodor</td>\n",
       "      <td>43</td>\n",
       "      <td>m</td>\n",
       "      <td>pankow</td>\n",
       "      <td>7</td>\n",
       "    </tr>\n",
       "    <tr>\n",
       "      <th>15760</th>\n",
       "      <td>Elias</td>\n",
       "      <td>42</td>\n",
       "      <td>m</td>\n",
       "      <td>pankow</td>\n",
       "      <td>5</td>\n",
       "    </tr>\n",
       "    <tr>\n",
       "      <th>15761</th>\n",
       "      <td>Anton</td>\n",
       "      <td>41</td>\n",
       "      <td>m</td>\n",
       "      <td>pankow</td>\n",
       "      <td>5</td>\n",
       "    </tr>\n",
       "    <tr>\n",
       "      <th>18301</th>\n",
       "      <td>Marie</td>\n",
       "      <td>111</td>\n",
       "      <td>w</td>\n",
       "      <td>charlottenburg-wilmersdorf</td>\n",
       "      <td>5</td>\n",
       "    </tr>\n",
       "    <tr>\n",
       "      <th>18302</th>\n",
       "      <td>Sophie</td>\n",
       "      <td>105</td>\n",
       "      <td>w</td>\n",
       "      <td>charlottenburg-wilmersdorf</td>\n",
       "      <td>6</td>\n",
       "    </tr>\n",
       "    <tr>\n",
       "      <th>18303</th>\n",
       "      <td>Charlotte</td>\n",
       "      <td>73</td>\n",
       "      <td>w</td>\n",
       "      <td>charlottenburg-wilmersdorf</td>\n",
       "      <td>9</td>\n",
       "    </tr>\n",
       "    <tr>\n",
       "      <th>18304</th>\n",
       "      <td>Emilia</td>\n",
       "      <td>73</td>\n",
       "      <td>w</td>\n",
       "      <td>charlottenburg-wilmersdorf</td>\n",
       "      <td>6</td>\n",
       "    </tr>\n",
       "    <tr>\n",
       "      <th>18305</th>\n",
       "      <td>Alexander</td>\n",
       "      <td>68</td>\n",
       "      <td>m</td>\n",
       "      <td>charlottenburg-wilmersdorf</td>\n",
       "      <td>9</td>\n",
       "    </tr>\n",
       "    <tr>\n",
       "      <th>18306</th>\n",
       "      <td>Maria</td>\n",
       "      <td>65</td>\n",
       "      <td>w</td>\n",
       "      <td>charlottenburg-wilmersdorf</td>\n",
       "      <td>5</td>\n",
       "    </tr>\n",
       "    <tr>\n",
       "      <th>18307</th>\n",
       "      <td>Elias</td>\n",
       "      <td>54</td>\n",
       "      <td>m</td>\n",
       "      <td>charlottenburg-wilmersdorf</td>\n",
       "      <td>5</td>\n",
       "    </tr>\n",
       "    <tr>\n",
       "      <th>18308</th>\n",
       "      <td>Noah</td>\n",
       "      <td>54</td>\n",
       "      <td>m</td>\n",
       "      <td>charlottenburg-wilmersdorf</td>\n",
       "      <td>4</td>\n",
       "    </tr>\n",
       "    <tr>\n",
       "      <th>18309</th>\n",
       "      <td>Maximilian</td>\n",
       "      <td>53</td>\n",
       "      <td>m</td>\n",
       "      <td>charlottenburg-wilmersdorf</td>\n",
       "      <td>10</td>\n",
       "    </tr>\n",
       "    <tr>\n",
       "      <th>18310</th>\n",
       "      <td>Paul</td>\n",
       "      <td>51</td>\n",
       "      <td>m</td>\n",
       "      <td>charlottenburg-wilmersdorf</td>\n",
       "      <td>4</td>\n",
       "    </tr>\n",
       "    <tr>\n",
       "      <th>18311</th>\n",
       "      <td>Johanna</td>\n",
       "      <td>50</td>\n",
       "      <td>w</td>\n",
       "      <td>charlottenburg-wilmersdorf</td>\n",
       "      <td>7</td>\n",
       "    </tr>\n",
       "    <tr>\n",
       "      <th>18312</th>\n",
       "      <td>Luise</td>\n",
       "      <td>49</td>\n",
       "      <td>w</td>\n",
       "      <td>charlottenburg-wilmersdorf</td>\n",
       "      <td>5</td>\n",
       "    </tr>\n",
       "    <tr>\n",
       "      <th>18313</th>\n",
       "      <td>Felix</td>\n",
       "      <td>47</td>\n",
       "      <td>m</td>\n",
       "      <td>charlottenburg-wilmersdorf</td>\n",
       "      <td>5</td>\n",
       "    </tr>\n",
       "    <tr>\n",
       "      <th>18314</th>\n",
       "      <td>Sophia</td>\n",
       "      <td>47</td>\n",
       "      <td>w</td>\n",
       "      <td>charlottenburg-wilmersdorf</td>\n",
       "      <td>6</td>\n",
       "    </tr>\n",
       "    <tr>\n",
       "      <th>18315</th>\n",
       "      <td>Elisabeth</td>\n",
       "      <td>45</td>\n",
       "      <td>w</td>\n",
       "      <td>charlottenburg-wilmersdorf</td>\n",
       "      <td>9</td>\n",
       "    </tr>\n",
       "    <tr>\n",
       "      <th>18316</th>\n",
       "      <td>Ali</td>\n",
       "      <td>41</td>\n",
       "      <td>m</td>\n",
       "      <td>charlottenburg-wilmersdorf</td>\n",
       "      <td>3</td>\n",
       "    </tr>\n",
       "    <tr>\n",
       "      <th>26328</th>\n",
       "      <td>Sophie</td>\n",
       "      <td>57</td>\n",
       "      <td>w</td>\n",
       "      <td>neukoelln</td>\n",
       "      <td>6</td>\n",
       "    </tr>\n",
       "    <tr>\n",
       "      <th>26329</th>\n",
       "      <td>Marie</td>\n",
       "      <td>52</td>\n",
       "      <td>w</td>\n",
       "      <td>neukoelln</td>\n",
       "      <td>5</td>\n",
       "    </tr>\n",
       "  </tbody>\n",
       "</table>\n",
       "<p>72 rows × 5 columns</p>\n",
       "</div>"
      ],
      "text/plain": [
       "          vorname  anzahl geschlecht                     bezirke  name length\n",
       "0       Charlotte      64          w    friedrichshain-kreuzberg            9\n",
       "1           Marie      51          w    friedrichshain-kreuzberg            5\n",
       "2          Sophie      50          w    friedrichshain-kreuzberg            6\n",
       "3           Anton      42          m    friedrichshain-kreuzberg            5\n",
       "4            Emma      42          w    friedrichshain-kreuzberg            4\n",
       "5           Maria      42          w    friedrichshain-kreuzberg            5\n",
       "6            Emil      41          m    friedrichshain-kreuzberg            4\n",
       "3520        Marie      94          w       tempelhof-schoeneberg            5\n",
       "3521       Sophie      89          w       tempelhof-schoeneberg            6\n",
       "3522        Maria      82          w       tempelhof-schoeneberg            5\n",
       "3523    Alexander      73          m       tempelhof-schoeneberg            9\n",
       "3524    Charlotte      63          w       tempelhof-schoeneberg            9\n",
       "3525       Emilia      60          w       tempelhof-schoeneberg            6\n",
       "3526         Paul      56          m       tempelhof-schoeneberg            4\n",
       "3527         Emma      54          w       tempelhof-schoeneberg            4\n",
       "3528       Sophia      52          w       tempelhof-schoeneberg            6\n",
       "3529        Elias      49          m       tempelhof-schoeneberg            5\n",
       "3530         Emil      49          m       tempelhof-schoeneberg            4\n",
       "3531   Maximilian      49          m       tempelhof-schoeneberg           10\n",
       "3532        Oskar      46          m       tempelhof-schoeneberg            5\n",
       "3533        Felix      44          m       tempelhof-schoeneberg            5\n",
       "3534         Noah      44          m       tempelhof-schoeneberg            4\n",
       "3535        Luise      42          w       tempelhof-schoeneberg            5\n",
       "3536        Jakob      41          m       tempelhof-schoeneberg            5\n",
       "3537         Anna      41          w       tempelhof-schoeneberg            4\n",
       "7156       Sophie      64          w                     spandau            6\n",
       "7157        Marie      58          w                     spandau            5\n",
       "7158    Alexander      45          m                     spandau            9\n",
       "7159    Charlotte      45          w                     spandau            9\n",
       "9709       Sophie      69          w                       mitte            6\n",
       "...           ...     ...        ...                         ...          ...\n",
       "15750        Paul      57          m                      pankow            4\n",
       "15751  Maximilian      51          m                      pankow           10\n",
       "15752         Mia      49          w                      pankow            3\n",
       "15753       Oskar      47          m                      pankow            5\n",
       "15754     Johanna      47          w                      pankow            7\n",
       "15755      Emilia      45          w                      pankow            6\n",
       "15756        Emma      44          w                      pankow            4\n",
       "15757       Maria      44          w                      pankow            5\n",
       "15758        Emil      43          m                      pankow            4\n",
       "15759     Theodor      43          m                      pankow            7\n",
       "15760       Elias      42          m                      pankow            5\n",
       "15761       Anton      41          m                      pankow            5\n",
       "18301       Marie     111          w  charlottenburg-wilmersdorf            5\n",
       "18302      Sophie     105          w  charlottenburg-wilmersdorf            6\n",
       "18303   Charlotte      73          w  charlottenburg-wilmersdorf            9\n",
       "18304      Emilia      73          w  charlottenburg-wilmersdorf            6\n",
       "18305   Alexander      68          m  charlottenburg-wilmersdorf            9\n",
       "18306       Maria      65          w  charlottenburg-wilmersdorf            5\n",
       "18307       Elias      54          m  charlottenburg-wilmersdorf            5\n",
       "18308        Noah      54          m  charlottenburg-wilmersdorf            4\n",
       "18309  Maximilian      53          m  charlottenburg-wilmersdorf           10\n",
       "18310        Paul      51          m  charlottenburg-wilmersdorf            4\n",
       "18311     Johanna      50          w  charlottenburg-wilmersdorf            7\n",
       "18312       Luise      49          w  charlottenburg-wilmersdorf            5\n",
       "18313       Felix      47          m  charlottenburg-wilmersdorf            5\n",
       "18314      Sophia      47          w  charlottenburg-wilmersdorf            6\n",
       "18315   Elisabeth      45          w  charlottenburg-wilmersdorf            9\n",
       "18316         Ali      41          m  charlottenburg-wilmersdorf            3\n",
       "26328      Sophie      57          w                   neukoelln            6\n",
       "26329       Marie      52          w                   neukoelln            5\n",
       "\n",
       "[72 rows x 5 columns]"
      ]
     },
     "execution_count": 17,
     "metadata": {},
     "output_type": "execute_result"
    }
   ],
   "source": [
    "# ...use like a index in your Dataframe\n",
    "berlin_names[more_than_40]"
   ]
  },
  {
   "cell_type": "code",
   "execution_count": 18,
   "metadata": {
    "collapsed": false,
    "deletable": true,
    "editable": true
   },
   "outputs": [
    {
     "data": {
      "text/html": [
       "<div>\n",
       "<table border=\"1\" class=\"dataframe\">\n",
       "  <thead>\n",
       "    <tr style=\"text-align: right;\">\n",
       "      <th></th>\n",
       "      <th>vorname</th>\n",
       "      <th>anzahl</th>\n",
       "      <th>geschlecht</th>\n",
       "      <th>bezirke</th>\n",
       "      <th>name length</th>\n",
       "    </tr>\n",
       "  </thead>\n",
       "  <tbody>\n",
       "    <tr>\n",
       "      <th>0</th>\n",
       "      <td>Charlotte</td>\n",
       "      <td>64</td>\n",
       "      <td>w</td>\n",
       "      <td>friedrichshain-kreuzberg</td>\n",
       "      <td>9</td>\n",
       "    </tr>\n",
       "    <tr>\n",
       "      <th>1</th>\n",
       "      <td>Marie</td>\n",
       "      <td>51</td>\n",
       "      <td>w</td>\n",
       "      <td>friedrichshain-kreuzberg</td>\n",
       "      <td>5</td>\n",
       "    </tr>\n",
       "    <tr>\n",
       "      <th>2</th>\n",
       "      <td>Sophie</td>\n",
       "      <td>50</td>\n",
       "      <td>w</td>\n",
       "      <td>friedrichshain-kreuzberg</td>\n",
       "      <td>6</td>\n",
       "    </tr>\n",
       "    <tr>\n",
       "      <th>3</th>\n",
       "      <td>Anton</td>\n",
       "      <td>42</td>\n",
       "      <td>m</td>\n",
       "      <td>friedrichshain-kreuzberg</td>\n",
       "      <td>5</td>\n",
       "    </tr>\n",
       "    <tr>\n",
       "      <th>4</th>\n",
       "      <td>Emma</td>\n",
       "      <td>42</td>\n",
       "      <td>w</td>\n",
       "      <td>friedrichshain-kreuzberg</td>\n",
       "      <td>4</td>\n",
       "    </tr>\n",
       "    <tr>\n",
       "      <th>5</th>\n",
       "      <td>Maria</td>\n",
       "      <td>42</td>\n",
       "      <td>w</td>\n",
       "      <td>friedrichshain-kreuzberg</td>\n",
       "      <td>5</td>\n",
       "    </tr>\n",
       "    <tr>\n",
       "      <th>6</th>\n",
       "      <td>Emil</td>\n",
       "      <td>41</td>\n",
       "      <td>m</td>\n",
       "      <td>friedrichshain-kreuzberg</td>\n",
       "      <td>4</td>\n",
       "    </tr>\n",
       "    <tr>\n",
       "      <th>3520</th>\n",
       "      <td>Marie</td>\n",
       "      <td>94</td>\n",
       "      <td>w</td>\n",
       "      <td>tempelhof-schoeneberg</td>\n",
       "      <td>5</td>\n",
       "    </tr>\n",
       "    <tr>\n",
       "      <th>3521</th>\n",
       "      <td>Sophie</td>\n",
       "      <td>89</td>\n",
       "      <td>w</td>\n",
       "      <td>tempelhof-schoeneberg</td>\n",
       "      <td>6</td>\n",
       "    </tr>\n",
       "    <tr>\n",
       "      <th>3522</th>\n",
       "      <td>Maria</td>\n",
       "      <td>82</td>\n",
       "      <td>w</td>\n",
       "      <td>tempelhof-schoeneberg</td>\n",
       "      <td>5</td>\n",
       "    </tr>\n",
       "    <tr>\n",
       "      <th>3523</th>\n",
       "      <td>Alexander</td>\n",
       "      <td>73</td>\n",
       "      <td>m</td>\n",
       "      <td>tempelhof-schoeneberg</td>\n",
       "      <td>9</td>\n",
       "    </tr>\n",
       "    <tr>\n",
       "      <th>3524</th>\n",
       "      <td>Charlotte</td>\n",
       "      <td>63</td>\n",
       "      <td>w</td>\n",
       "      <td>tempelhof-schoeneberg</td>\n",
       "      <td>9</td>\n",
       "    </tr>\n",
       "    <tr>\n",
       "      <th>3525</th>\n",
       "      <td>Emilia</td>\n",
       "      <td>60</td>\n",
       "      <td>w</td>\n",
       "      <td>tempelhof-schoeneberg</td>\n",
       "      <td>6</td>\n",
       "    </tr>\n",
       "    <tr>\n",
       "      <th>3526</th>\n",
       "      <td>Paul</td>\n",
       "      <td>56</td>\n",
       "      <td>m</td>\n",
       "      <td>tempelhof-schoeneberg</td>\n",
       "      <td>4</td>\n",
       "    </tr>\n",
       "    <tr>\n",
       "      <th>3527</th>\n",
       "      <td>Emma</td>\n",
       "      <td>54</td>\n",
       "      <td>w</td>\n",
       "      <td>tempelhof-schoeneberg</td>\n",
       "      <td>4</td>\n",
       "    </tr>\n",
       "    <tr>\n",
       "      <th>3528</th>\n",
       "      <td>Sophia</td>\n",
       "      <td>52</td>\n",
       "      <td>w</td>\n",
       "      <td>tempelhof-schoeneberg</td>\n",
       "      <td>6</td>\n",
       "    </tr>\n",
       "    <tr>\n",
       "      <th>3529</th>\n",
       "      <td>Elias</td>\n",
       "      <td>49</td>\n",
       "      <td>m</td>\n",
       "      <td>tempelhof-schoeneberg</td>\n",
       "      <td>5</td>\n",
       "    </tr>\n",
       "    <tr>\n",
       "      <th>3530</th>\n",
       "      <td>Emil</td>\n",
       "      <td>49</td>\n",
       "      <td>m</td>\n",
       "      <td>tempelhof-schoeneberg</td>\n",
       "      <td>4</td>\n",
       "    </tr>\n",
       "    <tr>\n",
       "      <th>3531</th>\n",
       "      <td>Maximilian</td>\n",
       "      <td>49</td>\n",
       "      <td>m</td>\n",
       "      <td>tempelhof-schoeneberg</td>\n",
       "      <td>10</td>\n",
       "    </tr>\n",
       "    <tr>\n",
       "      <th>3532</th>\n",
       "      <td>Oskar</td>\n",
       "      <td>46</td>\n",
       "      <td>m</td>\n",
       "      <td>tempelhof-schoeneberg</td>\n",
       "      <td>5</td>\n",
       "    </tr>\n",
       "    <tr>\n",
       "      <th>3533</th>\n",
       "      <td>Felix</td>\n",
       "      <td>44</td>\n",
       "      <td>m</td>\n",
       "      <td>tempelhof-schoeneberg</td>\n",
       "      <td>5</td>\n",
       "    </tr>\n",
       "    <tr>\n",
       "      <th>3534</th>\n",
       "      <td>Noah</td>\n",
       "      <td>44</td>\n",
       "      <td>m</td>\n",
       "      <td>tempelhof-schoeneberg</td>\n",
       "      <td>4</td>\n",
       "    </tr>\n",
       "    <tr>\n",
       "      <th>3535</th>\n",
       "      <td>Luise</td>\n",
       "      <td>42</td>\n",
       "      <td>w</td>\n",
       "      <td>tempelhof-schoeneberg</td>\n",
       "      <td>5</td>\n",
       "    </tr>\n",
       "    <tr>\n",
       "      <th>3536</th>\n",
       "      <td>Jakob</td>\n",
       "      <td>41</td>\n",
       "      <td>m</td>\n",
       "      <td>tempelhof-schoeneberg</td>\n",
       "      <td>5</td>\n",
       "    </tr>\n",
       "    <tr>\n",
       "      <th>3537</th>\n",
       "      <td>Anna</td>\n",
       "      <td>41</td>\n",
       "      <td>w</td>\n",
       "      <td>tempelhof-schoeneberg</td>\n",
       "      <td>4</td>\n",
       "    </tr>\n",
       "    <tr>\n",
       "      <th>7156</th>\n",
       "      <td>Sophie</td>\n",
       "      <td>64</td>\n",
       "      <td>w</td>\n",
       "      <td>spandau</td>\n",
       "      <td>6</td>\n",
       "    </tr>\n",
       "    <tr>\n",
       "      <th>7157</th>\n",
       "      <td>Marie</td>\n",
       "      <td>58</td>\n",
       "      <td>w</td>\n",
       "      <td>spandau</td>\n",
       "      <td>5</td>\n",
       "    </tr>\n",
       "    <tr>\n",
       "      <th>7158</th>\n",
       "      <td>Alexander</td>\n",
       "      <td>45</td>\n",
       "      <td>m</td>\n",
       "      <td>spandau</td>\n",
       "      <td>9</td>\n",
       "    </tr>\n",
       "    <tr>\n",
       "      <th>7159</th>\n",
       "      <td>Charlotte</td>\n",
       "      <td>45</td>\n",
       "      <td>w</td>\n",
       "      <td>spandau</td>\n",
       "      <td>9</td>\n",
       "    </tr>\n",
       "    <tr>\n",
       "      <th>9709</th>\n",
       "      <td>Sophie</td>\n",
       "      <td>69</td>\n",
       "      <td>w</td>\n",
       "      <td>mitte</td>\n",
       "      <td>6</td>\n",
       "    </tr>\n",
       "    <tr>\n",
       "      <th>...</th>\n",
       "      <td>...</td>\n",
       "      <td>...</td>\n",
       "      <td>...</td>\n",
       "      <td>...</td>\n",
       "      <td>...</td>\n",
       "    </tr>\n",
       "    <tr>\n",
       "      <th>15750</th>\n",
       "      <td>Paul</td>\n",
       "      <td>57</td>\n",
       "      <td>m</td>\n",
       "      <td>pankow</td>\n",
       "      <td>4</td>\n",
       "    </tr>\n",
       "    <tr>\n",
       "      <th>15751</th>\n",
       "      <td>Maximilian</td>\n",
       "      <td>51</td>\n",
       "      <td>m</td>\n",
       "      <td>pankow</td>\n",
       "      <td>10</td>\n",
       "    </tr>\n",
       "    <tr>\n",
       "      <th>15752</th>\n",
       "      <td>Mia</td>\n",
       "      <td>49</td>\n",
       "      <td>w</td>\n",
       "      <td>pankow</td>\n",
       "      <td>3</td>\n",
       "    </tr>\n",
       "    <tr>\n",
       "      <th>15753</th>\n",
       "      <td>Oskar</td>\n",
       "      <td>47</td>\n",
       "      <td>m</td>\n",
       "      <td>pankow</td>\n",
       "      <td>5</td>\n",
       "    </tr>\n",
       "    <tr>\n",
       "      <th>15754</th>\n",
       "      <td>Johanna</td>\n",
       "      <td>47</td>\n",
       "      <td>w</td>\n",
       "      <td>pankow</td>\n",
       "      <td>7</td>\n",
       "    </tr>\n",
       "    <tr>\n",
       "      <th>15755</th>\n",
       "      <td>Emilia</td>\n",
       "      <td>45</td>\n",
       "      <td>w</td>\n",
       "      <td>pankow</td>\n",
       "      <td>6</td>\n",
       "    </tr>\n",
       "    <tr>\n",
       "      <th>15756</th>\n",
       "      <td>Emma</td>\n",
       "      <td>44</td>\n",
       "      <td>w</td>\n",
       "      <td>pankow</td>\n",
       "      <td>4</td>\n",
       "    </tr>\n",
       "    <tr>\n",
       "      <th>15757</th>\n",
       "      <td>Maria</td>\n",
       "      <td>44</td>\n",
       "      <td>w</td>\n",
       "      <td>pankow</td>\n",
       "      <td>5</td>\n",
       "    </tr>\n",
       "    <tr>\n",
       "      <th>15758</th>\n",
       "      <td>Emil</td>\n",
       "      <td>43</td>\n",
       "      <td>m</td>\n",
       "      <td>pankow</td>\n",
       "      <td>4</td>\n",
       "    </tr>\n",
       "    <tr>\n",
       "      <th>15759</th>\n",
       "      <td>Theodor</td>\n",
       "      <td>43</td>\n",
       "      <td>m</td>\n",
       "      <td>pankow</td>\n",
       "      <td>7</td>\n",
       "    </tr>\n",
       "    <tr>\n",
       "      <th>15760</th>\n",
       "      <td>Elias</td>\n",
       "      <td>42</td>\n",
       "      <td>m</td>\n",
       "      <td>pankow</td>\n",
       "      <td>5</td>\n",
       "    </tr>\n",
       "    <tr>\n",
       "      <th>15761</th>\n",
       "      <td>Anton</td>\n",
       "      <td>41</td>\n",
       "      <td>m</td>\n",
       "      <td>pankow</td>\n",
       "      <td>5</td>\n",
       "    </tr>\n",
       "    <tr>\n",
       "      <th>18301</th>\n",
       "      <td>Marie</td>\n",
       "      <td>111</td>\n",
       "      <td>w</td>\n",
       "      <td>charlottenburg-wilmersdorf</td>\n",
       "      <td>5</td>\n",
       "    </tr>\n",
       "    <tr>\n",
       "      <th>18302</th>\n",
       "      <td>Sophie</td>\n",
       "      <td>105</td>\n",
       "      <td>w</td>\n",
       "      <td>charlottenburg-wilmersdorf</td>\n",
       "      <td>6</td>\n",
       "    </tr>\n",
       "    <tr>\n",
       "      <th>18303</th>\n",
       "      <td>Charlotte</td>\n",
       "      <td>73</td>\n",
       "      <td>w</td>\n",
       "      <td>charlottenburg-wilmersdorf</td>\n",
       "      <td>9</td>\n",
       "    </tr>\n",
       "    <tr>\n",
       "      <th>18304</th>\n",
       "      <td>Emilia</td>\n",
       "      <td>73</td>\n",
       "      <td>w</td>\n",
       "      <td>charlottenburg-wilmersdorf</td>\n",
       "      <td>6</td>\n",
       "    </tr>\n",
       "    <tr>\n",
       "      <th>18305</th>\n",
       "      <td>Alexander</td>\n",
       "      <td>68</td>\n",
       "      <td>m</td>\n",
       "      <td>charlottenburg-wilmersdorf</td>\n",
       "      <td>9</td>\n",
       "    </tr>\n",
       "    <tr>\n",
       "      <th>18306</th>\n",
       "      <td>Maria</td>\n",
       "      <td>65</td>\n",
       "      <td>w</td>\n",
       "      <td>charlottenburg-wilmersdorf</td>\n",
       "      <td>5</td>\n",
       "    </tr>\n",
       "    <tr>\n",
       "      <th>18307</th>\n",
       "      <td>Elias</td>\n",
       "      <td>54</td>\n",
       "      <td>m</td>\n",
       "      <td>charlottenburg-wilmersdorf</td>\n",
       "      <td>5</td>\n",
       "    </tr>\n",
       "    <tr>\n",
       "      <th>18308</th>\n",
       "      <td>Noah</td>\n",
       "      <td>54</td>\n",
       "      <td>m</td>\n",
       "      <td>charlottenburg-wilmersdorf</td>\n",
       "      <td>4</td>\n",
       "    </tr>\n",
       "    <tr>\n",
       "      <th>18309</th>\n",
       "      <td>Maximilian</td>\n",
       "      <td>53</td>\n",
       "      <td>m</td>\n",
       "      <td>charlottenburg-wilmersdorf</td>\n",
       "      <td>10</td>\n",
       "    </tr>\n",
       "    <tr>\n",
       "      <th>18310</th>\n",
       "      <td>Paul</td>\n",
       "      <td>51</td>\n",
       "      <td>m</td>\n",
       "      <td>charlottenburg-wilmersdorf</td>\n",
       "      <td>4</td>\n",
       "    </tr>\n",
       "    <tr>\n",
       "      <th>18311</th>\n",
       "      <td>Johanna</td>\n",
       "      <td>50</td>\n",
       "      <td>w</td>\n",
       "      <td>charlottenburg-wilmersdorf</td>\n",
       "      <td>7</td>\n",
       "    </tr>\n",
       "    <tr>\n",
       "      <th>18312</th>\n",
       "      <td>Luise</td>\n",
       "      <td>49</td>\n",
       "      <td>w</td>\n",
       "      <td>charlottenburg-wilmersdorf</td>\n",
       "      <td>5</td>\n",
       "    </tr>\n",
       "    <tr>\n",
       "      <th>18313</th>\n",
       "      <td>Felix</td>\n",
       "      <td>47</td>\n",
       "      <td>m</td>\n",
       "      <td>charlottenburg-wilmersdorf</td>\n",
       "      <td>5</td>\n",
       "    </tr>\n",
       "    <tr>\n",
       "      <th>18314</th>\n",
       "      <td>Sophia</td>\n",
       "      <td>47</td>\n",
       "      <td>w</td>\n",
       "      <td>charlottenburg-wilmersdorf</td>\n",
       "      <td>6</td>\n",
       "    </tr>\n",
       "    <tr>\n",
       "      <th>18315</th>\n",
       "      <td>Elisabeth</td>\n",
       "      <td>45</td>\n",
       "      <td>w</td>\n",
       "      <td>charlottenburg-wilmersdorf</td>\n",
       "      <td>9</td>\n",
       "    </tr>\n",
       "    <tr>\n",
       "      <th>18316</th>\n",
       "      <td>Ali</td>\n",
       "      <td>41</td>\n",
       "      <td>m</td>\n",
       "      <td>charlottenburg-wilmersdorf</td>\n",
       "      <td>3</td>\n",
       "    </tr>\n",
       "    <tr>\n",
       "      <th>26328</th>\n",
       "      <td>Sophie</td>\n",
       "      <td>57</td>\n",
       "      <td>w</td>\n",
       "      <td>neukoelln</td>\n",
       "      <td>6</td>\n",
       "    </tr>\n",
       "    <tr>\n",
       "      <th>26329</th>\n",
       "      <td>Marie</td>\n",
       "      <td>52</td>\n",
       "      <td>w</td>\n",
       "      <td>neukoelln</td>\n",
       "      <td>5</td>\n",
       "    </tr>\n",
       "  </tbody>\n",
       "</table>\n",
       "<p>72 rows × 5 columns</p>\n",
       "</div>"
      ],
      "text/plain": [
       "          vorname  anzahl geschlecht                     bezirke  name length\n",
       "0       Charlotte      64          w    friedrichshain-kreuzberg            9\n",
       "1           Marie      51          w    friedrichshain-kreuzberg            5\n",
       "2          Sophie      50          w    friedrichshain-kreuzberg            6\n",
       "3           Anton      42          m    friedrichshain-kreuzberg            5\n",
       "4            Emma      42          w    friedrichshain-kreuzberg            4\n",
       "5           Maria      42          w    friedrichshain-kreuzberg            5\n",
       "6            Emil      41          m    friedrichshain-kreuzberg            4\n",
       "3520        Marie      94          w       tempelhof-schoeneberg            5\n",
       "3521       Sophie      89          w       tempelhof-schoeneberg            6\n",
       "3522        Maria      82          w       tempelhof-schoeneberg            5\n",
       "3523    Alexander      73          m       tempelhof-schoeneberg            9\n",
       "3524    Charlotte      63          w       tempelhof-schoeneberg            9\n",
       "3525       Emilia      60          w       tempelhof-schoeneberg            6\n",
       "3526         Paul      56          m       tempelhof-schoeneberg            4\n",
       "3527         Emma      54          w       tempelhof-schoeneberg            4\n",
       "3528       Sophia      52          w       tempelhof-schoeneberg            6\n",
       "3529        Elias      49          m       tempelhof-schoeneberg            5\n",
       "3530         Emil      49          m       tempelhof-schoeneberg            4\n",
       "3531   Maximilian      49          m       tempelhof-schoeneberg           10\n",
       "3532        Oskar      46          m       tempelhof-schoeneberg            5\n",
       "3533        Felix      44          m       tempelhof-schoeneberg            5\n",
       "3534         Noah      44          m       tempelhof-schoeneberg            4\n",
       "3535        Luise      42          w       tempelhof-schoeneberg            5\n",
       "3536        Jakob      41          m       tempelhof-schoeneberg            5\n",
       "3537         Anna      41          w       tempelhof-schoeneberg            4\n",
       "7156       Sophie      64          w                     spandau            6\n",
       "7157        Marie      58          w                     spandau            5\n",
       "7158    Alexander      45          m                     spandau            9\n",
       "7159    Charlotte      45          w                     spandau            9\n",
       "9709       Sophie      69          w                       mitte            6\n",
       "...           ...     ...        ...                         ...          ...\n",
       "15750        Paul      57          m                      pankow            4\n",
       "15751  Maximilian      51          m                      pankow           10\n",
       "15752         Mia      49          w                      pankow            3\n",
       "15753       Oskar      47          m                      pankow            5\n",
       "15754     Johanna      47          w                      pankow            7\n",
       "15755      Emilia      45          w                      pankow            6\n",
       "15756        Emma      44          w                      pankow            4\n",
       "15757       Maria      44          w                      pankow            5\n",
       "15758        Emil      43          m                      pankow            4\n",
       "15759     Theodor      43          m                      pankow            7\n",
       "15760       Elias      42          m                      pankow            5\n",
       "15761       Anton      41          m                      pankow            5\n",
       "18301       Marie     111          w  charlottenburg-wilmersdorf            5\n",
       "18302      Sophie     105          w  charlottenburg-wilmersdorf            6\n",
       "18303   Charlotte      73          w  charlottenburg-wilmersdorf            9\n",
       "18304      Emilia      73          w  charlottenburg-wilmersdorf            6\n",
       "18305   Alexander      68          m  charlottenburg-wilmersdorf            9\n",
       "18306       Maria      65          w  charlottenburg-wilmersdorf            5\n",
       "18307       Elias      54          m  charlottenburg-wilmersdorf            5\n",
       "18308        Noah      54          m  charlottenburg-wilmersdorf            4\n",
       "18309  Maximilian      53          m  charlottenburg-wilmersdorf           10\n",
       "18310        Paul      51          m  charlottenburg-wilmersdorf            4\n",
       "18311     Johanna      50          w  charlottenburg-wilmersdorf            7\n",
       "18312       Luise      49          w  charlottenburg-wilmersdorf            5\n",
       "18313       Felix      47          m  charlottenburg-wilmersdorf            5\n",
       "18314      Sophia      47          w  charlottenburg-wilmersdorf            6\n",
       "18315   Elisabeth      45          w  charlottenburg-wilmersdorf            9\n",
       "18316         Ali      41          m  charlottenburg-wilmersdorf            3\n",
       "26328      Sophie      57          w                   neukoelln            6\n",
       "26329       Marie      52          w                   neukoelln            5\n",
       "\n",
       "[72 rows x 5 columns]"
      ]
     },
     "execution_count": 18,
     "metadata": {},
     "output_type": "execute_result"
    }
   ],
   "source": [
    "# You could have filtere directly inside de []:\n",
    "berlin_names[berlin_names['anzahl'] > 40]"
   ]
  },
  {
   "cell_type": "code",
   "execution_count": 19,
   "metadata": {
    "collapsed": false,
    "deletable": true,
    "editable": true
   },
   "outputs": [
    {
     "data": {
      "text/html": [
       "<div>\n",
       "<table border=\"1\" class=\"dataframe\">\n",
       "  <thead>\n",
       "    <tr style=\"text-align: right;\">\n",
       "      <th></th>\n",
       "      <th>vorname</th>\n",
       "      <th>anzahl</th>\n",
       "      <th>geschlecht</th>\n",
       "      <th>bezirke</th>\n",
       "      <th>name length</th>\n",
       "    </tr>\n",
       "  </thead>\n",
       "  <tbody>\n",
       "    <tr>\n",
       "      <th>3</th>\n",
       "      <td>Anton</td>\n",
       "      <td>42</td>\n",
       "      <td>m</td>\n",
       "      <td>friedrichshain-kreuzberg</td>\n",
       "      <td>5</td>\n",
       "    </tr>\n",
       "    <tr>\n",
       "      <th>4</th>\n",
       "      <td>Emma</td>\n",
       "      <td>42</td>\n",
       "      <td>w</td>\n",
       "      <td>friedrichshain-kreuzberg</td>\n",
       "      <td>4</td>\n",
       "    </tr>\n",
       "    <tr>\n",
       "      <th>5</th>\n",
       "      <td>Maria</td>\n",
       "      <td>42</td>\n",
       "      <td>w</td>\n",
       "      <td>friedrichshain-kreuzberg</td>\n",
       "      <td>5</td>\n",
       "    </tr>\n",
       "    <tr>\n",
       "      <th>6</th>\n",
       "      <td>Emil</td>\n",
       "      <td>41</td>\n",
       "      <td>m</td>\n",
       "      <td>friedrichshain-kreuzberg</td>\n",
       "      <td>4</td>\n",
       "    </tr>\n",
       "    <tr>\n",
       "      <th>3529</th>\n",
       "      <td>Elias</td>\n",
       "      <td>49</td>\n",
       "      <td>m</td>\n",
       "      <td>tempelhof-schoeneberg</td>\n",
       "      <td>5</td>\n",
       "    </tr>\n",
       "    <tr>\n",
       "      <th>3530</th>\n",
       "      <td>Emil</td>\n",
       "      <td>49</td>\n",
       "      <td>m</td>\n",
       "      <td>tempelhof-schoeneberg</td>\n",
       "      <td>4</td>\n",
       "    </tr>\n",
       "    <tr>\n",
       "      <th>3531</th>\n",
       "      <td>Maximilian</td>\n",
       "      <td>49</td>\n",
       "      <td>m</td>\n",
       "      <td>tempelhof-schoeneberg</td>\n",
       "      <td>10</td>\n",
       "    </tr>\n",
       "    <tr>\n",
       "      <th>3532</th>\n",
       "      <td>Oskar</td>\n",
       "      <td>46</td>\n",
       "      <td>m</td>\n",
       "      <td>tempelhof-schoeneberg</td>\n",
       "      <td>5</td>\n",
       "    </tr>\n",
       "    <tr>\n",
       "      <th>3533</th>\n",
       "      <td>Felix</td>\n",
       "      <td>44</td>\n",
       "      <td>m</td>\n",
       "      <td>tempelhof-schoeneberg</td>\n",
       "      <td>5</td>\n",
       "    </tr>\n",
       "    <tr>\n",
       "      <th>3534</th>\n",
       "      <td>Noah</td>\n",
       "      <td>44</td>\n",
       "      <td>m</td>\n",
       "      <td>tempelhof-schoeneberg</td>\n",
       "      <td>4</td>\n",
       "    </tr>\n",
       "    <tr>\n",
       "      <th>3535</th>\n",
       "      <td>Luise</td>\n",
       "      <td>42</td>\n",
       "      <td>w</td>\n",
       "      <td>tempelhof-schoeneberg</td>\n",
       "      <td>5</td>\n",
       "    </tr>\n",
       "    <tr>\n",
       "      <th>3536</th>\n",
       "      <td>Jakob</td>\n",
       "      <td>41</td>\n",
       "      <td>m</td>\n",
       "      <td>tempelhof-schoeneberg</td>\n",
       "      <td>5</td>\n",
       "    </tr>\n",
       "    <tr>\n",
       "      <th>3537</th>\n",
       "      <td>Anna</td>\n",
       "      <td>41</td>\n",
       "      <td>w</td>\n",
       "      <td>tempelhof-schoeneberg</td>\n",
       "      <td>4</td>\n",
       "    </tr>\n",
       "    <tr>\n",
       "      <th>7158</th>\n",
       "      <td>Alexander</td>\n",
       "      <td>45</td>\n",
       "      <td>m</td>\n",
       "      <td>spandau</td>\n",
       "      <td>9</td>\n",
       "    </tr>\n",
       "    <tr>\n",
       "      <th>7159</th>\n",
       "      <td>Charlotte</td>\n",
       "      <td>45</td>\n",
       "      <td>w</td>\n",
       "      <td>spandau</td>\n",
       "      <td>9</td>\n",
       "    </tr>\n",
       "    <tr>\n",
       "      <th>9712</th>\n",
       "      <td>Anna</td>\n",
       "      <td>48</td>\n",
       "      <td>w</td>\n",
       "      <td>mitte</td>\n",
       "      <td>4</td>\n",
       "    </tr>\n",
       "    <tr>\n",
       "      <th>9713</th>\n",
       "      <td>Charlotte</td>\n",
       "      <td>47</td>\n",
       "      <td>w</td>\n",
       "      <td>mitte</td>\n",
       "      <td>9</td>\n",
       "    </tr>\n",
       "    <tr>\n",
       "      <th>9714</th>\n",
       "      <td>Paul</td>\n",
       "      <td>46</td>\n",
       "      <td>m</td>\n",
       "      <td>mitte</td>\n",
       "      <td>4</td>\n",
       "    </tr>\n",
       "    <tr>\n",
       "      <th>9715</th>\n",
       "      <td>Alexander</td>\n",
       "      <td>45</td>\n",
       "      <td>m</td>\n",
       "      <td>mitte</td>\n",
       "      <td>9</td>\n",
       "    </tr>\n",
       "    <tr>\n",
       "      <th>15752</th>\n",
       "      <td>Mia</td>\n",
       "      <td>49</td>\n",
       "      <td>w</td>\n",
       "      <td>pankow</td>\n",
       "      <td>3</td>\n",
       "    </tr>\n",
       "    <tr>\n",
       "      <th>15753</th>\n",
       "      <td>Oskar</td>\n",
       "      <td>47</td>\n",
       "      <td>m</td>\n",
       "      <td>pankow</td>\n",
       "      <td>5</td>\n",
       "    </tr>\n",
       "    <tr>\n",
       "      <th>15754</th>\n",
       "      <td>Johanna</td>\n",
       "      <td>47</td>\n",
       "      <td>w</td>\n",
       "      <td>pankow</td>\n",
       "      <td>7</td>\n",
       "    </tr>\n",
       "    <tr>\n",
       "      <th>15755</th>\n",
       "      <td>Emilia</td>\n",
       "      <td>45</td>\n",
       "      <td>w</td>\n",
       "      <td>pankow</td>\n",
       "      <td>6</td>\n",
       "    </tr>\n",
       "    <tr>\n",
       "      <th>15756</th>\n",
       "      <td>Emma</td>\n",
       "      <td>44</td>\n",
       "      <td>w</td>\n",
       "      <td>pankow</td>\n",
       "      <td>4</td>\n",
       "    </tr>\n",
       "    <tr>\n",
       "      <th>15757</th>\n",
       "      <td>Maria</td>\n",
       "      <td>44</td>\n",
       "      <td>w</td>\n",
       "      <td>pankow</td>\n",
       "      <td>5</td>\n",
       "    </tr>\n",
       "    <tr>\n",
       "      <th>15758</th>\n",
       "      <td>Emil</td>\n",
       "      <td>43</td>\n",
       "      <td>m</td>\n",
       "      <td>pankow</td>\n",
       "      <td>4</td>\n",
       "    </tr>\n",
       "    <tr>\n",
       "      <th>15759</th>\n",
       "      <td>Theodor</td>\n",
       "      <td>43</td>\n",
       "      <td>m</td>\n",
       "      <td>pankow</td>\n",
       "      <td>7</td>\n",
       "    </tr>\n",
       "    <tr>\n",
       "      <th>15760</th>\n",
       "      <td>Elias</td>\n",
       "      <td>42</td>\n",
       "      <td>m</td>\n",
       "      <td>pankow</td>\n",
       "      <td>5</td>\n",
       "    </tr>\n",
       "    <tr>\n",
       "      <th>15761</th>\n",
       "      <td>Anton</td>\n",
       "      <td>41</td>\n",
       "      <td>m</td>\n",
       "      <td>pankow</td>\n",
       "      <td>5</td>\n",
       "    </tr>\n",
       "    <tr>\n",
       "      <th>18312</th>\n",
       "      <td>Luise</td>\n",
       "      <td>49</td>\n",
       "      <td>w</td>\n",
       "      <td>charlottenburg-wilmersdorf</td>\n",
       "      <td>5</td>\n",
       "    </tr>\n",
       "    <tr>\n",
       "      <th>18313</th>\n",
       "      <td>Felix</td>\n",
       "      <td>47</td>\n",
       "      <td>m</td>\n",
       "      <td>charlottenburg-wilmersdorf</td>\n",
       "      <td>5</td>\n",
       "    </tr>\n",
       "    <tr>\n",
       "      <th>18314</th>\n",
       "      <td>Sophia</td>\n",
       "      <td>47</td>\n",
       "      <td>w</td>\n",
       "      <td>charlottenburg-wilmersdorf</td>\n",
       "      <td>6</td>\n",
       "    </tr>\n",
       "    <tr>\n",
       "      <th>18315</th>\n",
       "      <td>Elisabeth</td>\n",
       "      <td>45</td>\n",
       "      <td>w</td>\n",
       "      <td>charlottenburg-wilmersdorf</td>\n",
       "      <td>9</td>\n",
       "    </tr>\n",
       "    <tr>\n",
       "      <th>18316</th>\n",
       "      <td>Ali</td>\n",
       "      <td>41</td>\n",
       "      <td>m</td>\n",
       "      <td>charlottenburg-wilmersdorf</td>\n",
       "      <td>3</td>\n",
       "    </tr>\n",
       "  </tbody>\n",
       "</table>\n",
       "</div>"
      ],
      "text/plain": [
       "          vorname  anzahl geschlecht                     bezirke  name length\n",
       "3           Anton      42          m    friedrichshain-kreuzberg            5\n",
       "4            Emma      42          w    friedrichshain-kreuzberg            4\n",
       "5           Maria      42          w    friedrichshain-kreuzberg            5\n",
       "6            Emil      41          m    friedrichshain-kreuzberg            4\n",
       "3529        Elias      49          m       tempelhof-schoeneberg            5\n",
       "3530         Emil      49          m       tempelhof-schoeneberg            4\n",
       "3531   Maximilian      49          m       tempelhof-schoeneberg           10\n",
       "3532        Oskar      46          m       tempelhof-schoeneberg            5\n",
       "3533        Felix      44          m       tempelhof-schoeneberg            5\n",
       "3534         Noah      44          m       tempelhof-schoeneberg            4\n",
       "3535        Luise      42          w       tempelhof-schoeneberg            5\n",
       "3536        Jakob      41          m       tempelhof-schoeneberg            5\n",
       "3537         Anna      41          w       tempelhof-schoeneberg            4\n",
       "7158    Alexander      45          m                     spandau            9\n",
       "7159    Charlotte      45          w                     spandau            9\n",
       "9712         Anna      48          w                       mitte            4\n",
       "9713    Charlotte      47          w                       mitte            9\n",
       "9714         Paul      46          m                       mitte            4\n",
       "9715    Alexander      45          m                       mitte            9\n",
       "15752         Mia      49          w                      pankow            3\n",
       "15753       Oskar      47          m                      pankow            5\n",
       "15754     Johanna      47          w                      pankow            7\n",
       "15755      Emilia      45          w                      pankow            6\n",
       "15756        Emma      44          w                      pankow            4\n",
       "15757       Maria      44          w                      pankow            5\n",
       "15758        Emil      43          m                      pankow            4\n",
       "15759     Theodor      43          m                      pankow            7\n",
       "15760       Elias      42          m                      pankow            5\n",
       "15761       Anton      41          m                      pankow            5\n",
       "18312       Luise      49          w  charlottenburg-wilmersdorf            5\n",
       "18313       Felix      47          m  charlottenburg-wilmersdorf            5\n",
       "18314      Sophia      47          w  charlottenburg-wilmersdorf            6\n",
       "18315   Elisabeth      45          w  charlottenburg-wilmersdorf            9\n",
       "18316         Ali      41          m  charlottenburg-wilmersdorf            3"
      ]
     },
     "execution_count": 19,
     "metadata": {},
     "output_type": "execute_result"
    }
   ],
   "source": [
    "# You can apply more than one filter with &. Don't forget the parenthesis! \n",
    "\n",
    "berlin_names[(berlin_names['anzahl'] > 40) & (berlin_names['anzahl'] < 50)]"
   ]
  },
  {
   "cell_type": "markdown",
   "metadata": {
    "deletable": true,
    "editable": true
   },
   "source": [
    "# Couting values\n",
    "\n",
    "With the method value_counts, pandas can count how many different names we have in each neighborhood:"
   ]
  },
  {
   "cell_type": "code",
   "execution_count": 20,
   "metadata": {
    "collapsed": false,
    "deletable": true,
    "editable": true
   },
   "outputs": [
    {
     "data": {
      "text/plain": [
       "mitte                         3850\n",
       "tempelhof-schoeneberg         3636\n",
       "charlottenburg-wilmersdorf    3550\n",
       "friedrichshain-kreuzberg      3520\n",
       "neukoelln                     2750\n",
       "pankow                        2555\n",
       "spandau                       2553\n",
       "lichtenberg                   2187\n",
       "reinickendorf                 1221\n",
       "treptow-koepenick             1128\n",
       "steglitz-zehlendorf           1089\n",
       "marzahn-hellersdorf           1039\n",
       "Name: bezirke, dtype: int64"
      ]
     },
     "execution_count": 20,
     "metadata": {},
     "output_type": "execute_result"
    }
   ],
   "source": [
    "berlin_names['bezirke'].value_counts()"
   ]
  },
  {
   "cell_type": "markdown",
   "metadata": {
    "deletable": true,
    "editable": true
   },
   "source": [
    "# Creating a function for common dataframe operations"
   ]
  },
  {
   "cell_type": "code",
   "execution_count": 21,
   "metadata": {
    "collapsed": true,
    "deletable": true,
    "editable": true
   },
   "outputs": [],
   "source": [
    "# We can create a function for reusing the query above, but now you can use with different number of persons:\n",
    "def more_than(number_persons):\n",
    "    return berlin_names[berlin_names['anzahl'] >= number_persons]"
   ]
  },
  {
   "cell_type": "code",
   "execution_count": 22,
   "metadata": {
    "collapsed": false,
    "deletable": true,
    "editable": true
   },
   "outputs": [
    {
     "data": {
      "text/html": [
       "<div>\n",
       "<table border=\"1\" class=\"dataframe\">\n",
       "  <thead>\n",
       "    <tr style=\"text-align: right;\">\n",
       "      <th></th>\n",
       "      <th>vorname</th>\n",
       "      <th>anzahl</th>\n",
       "      <th>geschlecht</th>\n",
       "      <th>bezirke</th>\n",
       "      <th>name length</th>\n",
       "    </tr>\n",
       "  </thead>\n",
       "  <tbody>\n",
       "    <tr>\n",
       "      <th>3520</th>\n",
       "      <td>Marie</td>\n",
       "      <td>94</td>\n",
       "      <td>w</td>\n",
       "      <td>tempelhof-schoeneberg</td>\n",
       "      <td>5</td>\n",
       "    </tr>\n",
       "    <tr>\n",
       "      <th>3521</th>\n",
       "      <td>Sophie</td>\n",
       "      <td>89</td>\n",
       "      <td>w</td>\n",
       "      <td>tempelhof-schoeneberg</td>\n",
       "      <td>6</td>\n",
       "    </tr>\n",
       "    <tr>\n",
       "      <th>3522</th>\n",
       "      <td>Maria</td>\n",
       "      <td>82</td>\n",
       "      <td>w</td>\n",
       "      <td>tempelhof-schoeneberg</td>\n",
       "      <td>5</td>\n",
       "    </tr>\n",
       "    <tr>\n",
       "      <th>15746</th>\n",
       "      <td>Marie</td>\n",
       "      <td>112</td>\n",
       "      <td>w</td>\n",
       "      <td>pankow</td>\n",
       "      <td>5</td>\n",
       "    </tr>\n",
       "    <tr>\n",
       "      <th>15747</th>\n",
       "      <td>Sophie</td>\n",
       "      <td>84</td>\n",
       "      <td>w</td>\n",
       "      <td>pankow</td>\n",
       "      <td>6</td>\n",
       "    </tr>\n",
       "    <tr>\n",
       "      <th>15748</th>\n",
       "      <td>Charlotte</td>\n",
       "      <td>81</td>\n",
       "      <td>w</td>\n",
       "      <td>pankow</td>\n",
       "      <td>9</td>\n",
       "    </tr>\n",
       "    <tr>\n",
       "      <th>18301</th>\n",
       "      <td>Marie</td>\n",
       "      <td>111</td>\n",
       "      <td>w</td>\n",
       "      <td>charlottenburg-wilmersdorf</td>\n",
       "      <td>5</td>\n",
       "    </tr>\n",
       "    <tr>\n",
       "      <th>18302</th>\n",
       "      <td>Sophie</td>\n",
       "      <td>105</td>\n",
       "      <td>w</td>\n",
       "      <td>charlottenburg-wilmersdorf</td>\n",
       "      <td>6</td>\n",
       "    </tr>\n",
       "  </tbody>\n",
       "</table>\n",
       "</div>"
      ],
      "text/plain": [
       "         vorname  anzahl geschlecht                     bezirke  name length\n",
       "3520       Marie      94          w       tempelhof-schoeneberg            5\n",
       "3521      Sophie      89          w       tempelhof-schoeneberg            6\n",
       "3522       Maria      82          w       tempelhof-schoeneberg            5\n",
       "15746      Marie     112          w                      pankow            5\n",
       "15747     Sophie      84          w                      pankow            6\n",
       "15748  Charlotte      81          w                      pankow            9\n",
       "18301      Marie     111          w  charlottenburg-wilmersdorf            5\n",
       "18302     Sophie     105          w  charlottenburg-wilmersdorf            6"
      ]
     },
     "execution_count": 22,
     "metadata": {},
     "output_type": "execute_result"
    }
   ],
   "source": [
    "# Names with more than 80 persons with it\n",
    "more_than(80)"
   ]
  },
  {
   "cell_type": "markdown",
   "metadata": {
    "deletable": true,
    "editable": true
   },
   "source": [
    "# Homework\n",
    "\n",
    "1. How many persons with your name exist in Berlin?\n",
    "2. Where is the neighborhood with more different names?\n",
    "3. How many persons exist in total on our dataset?\n",
    "4. Whats is the most common name in each neighborhood?\n",
    "5. Hoe many men and women exist in our dataset?"
   ]
  },
  {
   "cell_type": "code",
   "execution_count": 23,
   "metadata": {
    "collapsed": false,
    "deletable": true,
    "editable": true
   },
   "outputs": [],
   "source": [
    "def name_count(name='Omar', want_print=True):\n",
    "    '''\n",
    "    Print the total number of persons with name in Berlin\n",
    "\n",
    "    '''\n",
    "    just_name = berlin_names['vorname'] == name\n",
    "    name_numbers = berlin_names[just_name]['anzahl']\n",
    "\n",
    "    # Total number of persons with name\n",
    "    total_name = 0\n",
    "    for num in name_numbers:\n",
    "        total_name = total_name + num\n",
    "    \n",
    "    if want_print:\n",
    "        print(\"Total number of '{}': {}\".format(name, total_name)) \n",
    "    return total_name\n",
    "\n"
   ]
  },
  {
   "cell_type": "code",
   "execution_count": 24,
   "metadata": {
    "collapsed": false,
    "deletable": true,
    "editable": true
   },
   "outputs": [
    {
     "name": "stdout",
     "output_type": "stream",
     "text": [
      "Total number of 'Omar': 51\n"
     ]
    },
    {
     "data": {
      "text/plain": [
       "51"
      ]
     },
     "execution_count": 24,
     "metadata": {},
     "output_type": "execute_result"
    }
   ],
   "source": [
    "name_count()"
   ]
  },
  {
   "cell_type": "code",
   "execution_count": 25,
   "metadata": {
    "collapsed": false,
    "deletable": true,
    "editable": true
   },
   "outputs": [
    {
     "name": "stdout",
     "output_type": "stream",
     "text": [
      "Total number of 'Edgar': 70\n"
     ]
    },
    {
     "data": {
      "text/plain": [
       "70"
      ]
     },
     "execution_count": 25,
     "metadata": {},
     "output_type": "execute_result"
    }
   ],
   "source": [
    "edgar_number = name_count('Edgar', True)\n",
    "edgar_number"
   ]
  },
  {
   "cell_type": "code",
   "execution_count": null,
   "metadata": {
    "collapsed": true,
    "deletable": true,
    "editable": true
   },
   "outputs": [],
   "source": []
  },
  {
   "cell_type": "code",
   "execution_count": 26,
   "metadata": {
    "collapsed": false,
    "deletable": true,
    "editable": true
   },
   "outputs": [],
   "source": [
    "just_omar = berlin_names['vorname'] == 'Omar'"
   ]
  },
  {
   "cell_type": "code",
   "execution_count": 27,
   "metadata": {
    "collapsed": false,
    "deletable": true,
    "editable": true
   },
   "outputs": [
    {
     "name": "stdout",
     "output_type": "stream",
     "text": [
      "4\n",
      "Intermediate total 4\n",
      "6\n",
      "Intermediate total 10\n",
      "2\n",
      "Intermediate total 12\n",
      "14\n",
      "Intermediate total 26\n",
      "2\n",
      "Intermediate total 28\n",
      "2\n",
      "Intermediate total 30\n",
      "10\n",
      "Intermediate total 40\n",
      "3\n",
      "Intermediate total 43\n",
      "1\n",
      "Intermediate total 44\n",
      "7\n",
      "Intermediate total 51\n",
      "Total number of 'Omar': 51\n"
     ]
    }
   ],
   "source": [
    "omar_numbers = berlin_names[just_omar]['anzahl']\n",
    "\n",
    "total_omar = 0\n",
    "for num in omar_numbers:\n",
    "    print(num)\n",
    "    total_omar = total_omar + num\n",
    "    print('Intermediate total {}'.format(total_omar))\n",
    "    \n",
    "print(\"Total number of 'Omar': {}\".format(total_omar))"
   ]
  },
  {
   "cell_type": "code",
   "execution_count": 28,
   "metadata": {
    "collapsed": false,
    "deletable": true,
    "editable": true
   },
   "outputs": [
    {
     "ename": "SyntaxError",
     "evalue": "invalid syntax (<ipython-input-28-57590a92fff4>, line 2)",
     "output_type": "error",
     "traceback": [
      "\u001b[0;36m  File \u001b[0;32m\"<ipython-input-28-57590a92fff4>\"\u001b[0;36m, line \u001b[0;32m2\u001b[0m\n\u001b[0;31m    for index in berlin_names[]:\u001b[0m\n\u001b[0m                              ^\u001b[0m\n\u001b[0;31mSyntaxError\u001b[0m\u001b[0;31m:\u001b[0m invalid syntax\n"
     ]
    }
   ],
   "source": [
    "x = 0\n",
    "for index in berlin_names[]:\n",
    "    if berlin_names['vorname'] == 'Iyhab'\n",
    "        x = x + 1\n",
    "        print(x)"
   ]
  },
  {
   "cell_type": "code",
   "execution_count": null,
   "metadata": {
    "collapsed": true,
    "deletable": true,
    "editable": true
   },
   "outputs": [],
   "source": [
    "def our_sum(favorite_number, other_number):\n",
    "    the_sum = favorite_number + other_number\n",
    "    return the_sum"
   ]
  },
  {
   "cell_type": "code",
   "execution_count": null,
   "metadata": {
    "collapsed": false,
    "deletable": true,
    "editable": true
   },
   "outputs": [],
   "source": [
    "our_sum(42, 7)"
   ]
  },
  {
   "cell_type": "code",
   "execution_count": 31,
   "metadata": {
    "collapsed": false
   },
   "outputs": [],
   "source": [
    "daniel_number = berlin_names[berlin_names['vorname'] == 'Daniel']['anzahl']"
   ]
  },
  {
   "cell_type": "code",
   "execution_count": 32,
   "metadata": {
    "collapsed": false
   },
   "outputs": [
    {
     "data": {
      "text/plain": [
       "138"
      ]
     },
     "execution_count": 32,
     "metadata": {},
     "output_type": "execute_result"
    }
   ],
   "source": [
    "daniel_number.sum()"
   ]
  },
  {
   "cell_type": "code",
   "execution_count": 33,
   "metadata": {
    "collapsed": false
   },
   "outputs": [
    {
     "name": "stdout",
     "output_type": "stream",
     "text": [
      "Total number of 'Daniel': 138\n"
     ]
    },
    {
     "data": {
      "text/plain": [
       "138"
      ]
     },
     "execution_count": 33,
     "metadata": {},
     "output_type": "execute_result"
    }
   ],
   "source": [
    "name_count('Daniel')"
   ]
  },
  {
   "cell_type": "code",
   "execution_count": 34,
   "metadata": {
    "collapsed": false
   },
   "outputs": [
    {
     "data": {
      "text/plain": [
       "10.615384615384615"
      ]
     },
     "execution_count": 34,
     "metadata": {},
     "output_type": "execute_result"
    }
   ],
   "source": [
    "daniel_number.mean()"
   ]
  },
  {
   "cell_type": "code",
   "execution_count": 35,
   "metadata": {
    "collapsed": false
   },
   "outputs": [
    {
     "data": {
      "text/plain": [
       "138"
      ]
     },
     "execution_count": 35,
     "metadata": {},
     "output_type": "execute_result"
    }
   ],
   "source": [
    "sum(daniel_number)"
   ]
  },
  {
   "cell_type": "code",
   "execution_count": 37,
   "metadata": {
    "collapsed": false
   },
   "outputs": [
    {
     "data": {
      "text/html": [
       "<div>\n",
       "<table border=\"1\" class=\"dataframe\">\n",
       "  <thead>\n",
       "    <tr style=\"text-align: right;\">\n",
       "      <th></th>\n",
       "      <th>vorname</th>\n",
       "      <th>anzahl</th>\n",
       "      <th>geschlecht</th>\n",
       "      <th>bezirke</th>\n",
       "      <th>name length</th>\n",
       "    </tr>\n",
       "  </thead>\n",
       "  <tbody>\n",
       "    <tr>\n",
       "      <th>0</th>\n",
       "      <td>Charlotte</td>\n",
       "      <td>64</td>\n",
       "      <td>w</td>\n",
       "      <td>friedrichshain-kreuzberg</td>\n",
       "      <td>9</td>\n",
       "    </tr>\n",
       "    <tr>\n",
       "      <th>1</th>\n",
       "      <td>Marie</td>\n",
       "      <td>51</td>\n",
       "      <td>w</td>\n",
       "      <td>friedrichshain-kreuzberg</td>\n",
       "      <td>5</td>\n",
       "    </tr>\n",
       "    <tr>\n",
       "      <th>2</th>\n",
       "      <td>Sophie</td>\n",
       "      <td>50</td>\n",
       "      <td>w</td>\n",
       "      <td>friedrichshain-kreuzberg</td>\n",
       "      <td>6</td>\n",
       "    </tr>\n",
       "    <tr>\n",
       "      <th>3</th>\n",
       "      <td>Anton</td>\n",
       "      <td>42</td>\n",
       "      <td>m</td>\n",
       "      <td>friedrichshain-kreuzberg</td>\n",
       "      <td>5</td>\n",
       "    </tr>\n",
       "    <tr>\n",
       "      <th>4</th>\n",
       "      <td>Emma</td>\n",
       "      <td>42</td>\n",
       "      <td>w</td>\n",
       "      <td>friedrichshain-kreuzberg</td>\n",
       "      <td>4</td>\n",
       "    </tr>\n",
       "  </tbody>\n",
       "</table>\n",
       "</div>"
      ],
      "text/plain": [
       "     vorname  anzahl geschlecht                   bezirke  name length\n",
       "0  Charlotte      64          w  friedrichshain-kreuzberg            9\n",
       "1      Marie      51          w  friedrichshain-kreuzberg            5\n",
       "2     Sophie      50          w  friedrichshain-kreuzberg            6\n",
       "3      Anton      42          m  friedrichshain-kreuzberg            5\n",
       "4       Emma      42          w  friedrichshain-kreuzberg            4"
      ]
     },
     "execution_count": 37,
     "metadata": {},
     "output_type": "execute_result"
    }
   ],
   "source": [
    "berlin_names.head()"
   ]
  },
  {
   "cell_type": "code",
   "execution_count": 40,
   "metadata": {
    "collapsed": false
   },
   "outputs": [],
   "source": [
    "bn = berlin_names[berlin_names['bezirke'] == 'friedrichshain-kreuzberg']"
   ]
  },
  {
   "cell_type": "code",
   "execution_count": 41,
   "metadata": {
    "collapsed": true
   },
   "outputs": [],
   "source": [
    "bnv = bn['vorname']"
   ]
  },
  {
   "cell_type": "code",
   "execution_count": 47,
   "metadata": {
    "collapsed": false
   },
   "outputs": [
    {
     "data": {
      "text/plain": [
       "3450"
      ]
     },
     "execution_count": 47,
     "metadata": {},
     "output_type": "execute_result"
    }
   ],
   "source": [
    "len(bnv.unique())"
   ]
  },
  {
   "cell_type": "code",
   "execution_count": 48,
   "metadata": {
    "collapsed": false
   },
   "outputs": [
    {
     "data": {
      "text/plain": [
       "3520"
      ]
     },
     "execution_count": 48,
     "metadata": {},
     "output_type": "execute_result"
    }
   ],
   "source": [
    "len(bnv)"
   ]
  },
  {
   "cell_type": "code",
   "execution_count": 49,
   "metadata": {
    "collapsed": true
   },
   "outputs": [],
   "source": [
    "s = pd.Series([1,2,3,3,4,5,5,5,5])"
   ]
  },
  {
   "cell_type": "code",
   "execution_count": 50,
   "metadata": {
    "collapsed": false
   },
   "outputs": [
    {
     "data": {
      "text/plain": [
       "0    1\n",
       "1    2\n",
       "2    3\n",
       "3    3\n",
       "4    4\n",
       "5    5\n",
       "6    5\n",
       "7    5\n",
       "8    5\n",
       "dtype: int64"
      ]
     },
     "execution_count": 50,
     "metadata": {},
     "output_type": "execute_result"
    }
   ],
   "source": [
    "s"
   ]
  },
  {
   "cell_type": "code",
   "execution_count": 51,
   "metadata": {
    "collapsed": false
   },
   "outputs": [
    {
     "data": {
      "text/plain": [
       "9"
      ]
     },
     "execution_count": 51,
     "metadata": {},
     "output_type": "execute_result"
    }
   ],
   "source": [
    "len(s)"
   ]
  },
  {
   "cell_type": "code",
   "execution_count": 52,
   "metadata": {
    "collapsed": false
   },
   "outputs": [
    {
     "data": {
      "text/plain": [
       "array([1, 2, 3, 4, 5])"
      ]
     },
     "execution_count": 52,
     "metadata": {},
     "output_type": "execute_result"
    }
   ],
   "source": [
    "s.unique()"
   ]
  },
  {
   "cell_type": "code",
   "execution_count": 53,
   "metadata": {
    "collapsed": true
   },
   "outputs": [],
   "source": [
    "all_ngb = berlin_names['bezirke']"
   ]
  },
  {
   "cell_type": "code",
   "execution_count": 54,
   "metadata": {
    "collapsed": false
   },
   "outputs": [
    {
     "data": {
      "text/plain": [
       "0        friedrichshain-kreuzberg\n",
       "1        friedrichshain-kreuzberg\n",
       "2        friedrichshain-kreuzberg\n",
       "3        friedrichshain-kreuzberg\n",
       "4        friedrichshain-kreuzberg\n",
       "5        friedrichshain-kreuzberg\n",
       "6        friedrichshain-kreuzberg\n",
       "7        friedrichshain-kreuzberg\n",
       "8        friedrichshain-kreuzberg\n",
       "9        friedrichshain-kreuzberg\n",
       "10       friedrichshain-kreuzberg\n",
       "11       friedrichshain-kreuzberg\n",
       "12       friedrichshain-kreuzberg\n",
       "13       friedrichshain-kreuzberg\n",
       "14       friedrichshain-kreuzberg\n",
       "15       friedrichshain-kreuzberg\n",
       "16       friedrichshain-kreuzberg\n",
       "17       friedrichshain-kreuzberg\n",
       "18       friedrichshain-kreuzberg\n",
       "19       friedrichshain-kreuzberg\n",
       "20       friedrichshain-kreuzberg\n",
       "21       friedrichshain-kreuzberg\n",
       "22       friedrichshain-kreuzberg\n",
       "23       friedrichshain-kreuzberg\n",
       "24       friedrichshain-kreuzberg\n",
       "25       friedrichshain-kreuzberg\n",
       "26       friedrichshain-kreuzberg\n",
       "27       friedrichshain-kreuzberg\n",
       "28       friedrichshain-kreuzberg\n",
       "29       friedrichshain-kreuzberg\n",
       "                   ...           \n",
       "29048                   neukoelln\n",
       "29049                   neukoelln\n",
       "29050                   neukoelln\n",
       "29051                   neukoelln\n",
       "29052                   neukoelln\n",
       "29053                   neukoelln\n",
       "29054                   neukoelln\n",
       "29055                   neukoelln\n",
       "29056                   neukoelln\n",
       "29057                   neukoelln\n",
       "29058                   neukoelln\n",
       "29059                   neukoelln\n",
       "29060                   neukoelln\n",
       "29061                   neukoelln\n",
       "29062                   neukoelln\n",
       "29063                   neukoelln\n",
       "29064                   neukoelln\n",
       "29065                   neukoelln\n",
       "29066                   neukoelln\n",
       "29067                   neukoelln\n",
       "29068                   neukoelln\n",
       "29069                   neukoelln\n",
       "29070                   neukoelln\n",
       "29071                   neukoelln\n",
       "29072                   neukoelln\n",
       "29073                   neukoelln\n",
       "29074                   neukoelln\n",
       "29075                   neukoelln\n",
       "29076                   neukoelln\n",
       "29077                   neukoelln\n",
       "Name: bezirke, dtype: object"
      ]
     },
     "execution_count": 54,
     "metadata": {},
     "output_type": "execute_result"
    }
   ],
   "source": [
    "all_ngb"
   ]
  },
  {
   "cell_type": "code",
   "execution_count": 55,
   "metadata": {
    "collapsed": false
   },
   "outputs": [
    {
     "data": {
      "text/plain": [
       "array(['friedrichshain-kreuzberg', 'tempelhof-schoeneberg', 'spandau',\n",
       "       'mitte', 'lichtenberg', 'pankow', 'charlottenburg-wilmersdorf',\n",
       "       'reinickendorf', 'marzahn-hellersdorf', 'treptow-koepenick',\n",
       "       'steglitz-zehlendorf', 'neukoelln'], dtype=object)"
      ]
     },
     "execution_count": 55,
     "metadata": {},
     "output_type": "execute_result"
    }
   ],
   "source": [
    "all_ngb =all_ngb.unique()\n",
    "all_ngb"
   ]
  },
  {
   "cell_type": "code",
   "execution_count": 63,
   "metadata": {
    "collapsed": true
   },
   "outputs": [],
   "source": [
    "def count_unique(ngb_name):\n",
    "    bn = berlin_names[berlin_names['bezirke'] == ngb_name]\n",
    "    bnvornames = bn['vorname']\n",
    "    just_unique = bnvornames.unique()\n",
    "    number_of_unique = len(just_unique)\n",
    "    #print('{} => {}'.format(ngb_name, number_of_unique))\n",
    "    return ngb_name, number_of_unique"
   ]
  },
  {
   "cell_type": "code",
   "execution_count": 64,
   "metadata": {
    "collapsed": false
   },
   "outputs": [
    {
     "data": {
      "text/plain": [
       "('friedrichshain-kreuzberg', 3450)"
      ]
     },
     "execution_count": 64,
     "metadata": {},
     "output_type": "execute_result"
    }
   ],
   "source": [
    "count_unique('friedrichshain-kreuzberg')"
   ]
  },
  {
   "cell_type": "code",
   "execution_count": 73,
   "metadata": {
    "collapsed": false
   },
   "outputs": [],
   "source": [
    "ngb = []\n",
    "\n",
    "for ngb_name in all_ngb:\n",
    "    ngb.append(count_unique(ngb_name))\n",
    "    "
   ]
  },
  {
   "cell_type": "code",
   "execution_count": 74,
   "metadata": {
    "collapsed": false
   },
   "outputs": [
    {
     "data": {
      "text/plain": [
       "[('friedrichshain-kreuzberg', 3450),\n",
       " ('tempelhof-schoeneberg', 3576),\n",
       " ('spandau', 2514),\n",
       " ('mitte', 3781),\n",
       " ('lichtenberg', 2159),\n",
       " ('pankow', 2520),\n",
       " ('charlottenburg-wilmersdorf', 3501),\n",
       " ('reinickendorf', 1215),\n",
       " ('marzahn-hellersdorf', 1037),\n",
       " ('treptow-koepenick', 1114),\n",
       " ('steglitz-zehlendorf', 1083),\n",
       " ('neukoelln', 2724)]"
      ]
     },
     "execution_count": 74,
     "metadata": {},
     "output_type": "execute_result"
    }
   ],
   "source": [
    "ngb"
   ]
  },
  {
   "cell_type": "code",
   "execution_count": 77,
   "metadata": {
    "collapsed": false
   },
   "outputs": [],
   "source": [
    "df_ngb = pd.DataFrame(ngb)"
   ]
  },
  {
   "cell_type": "code",
   "execution_count": 95,
   "metadata": {
    "collapsed": false
   },
   "outputs": [],
   "source": [
    "for i, row in df_ngb.iterrows():\n",
    "    name = row[0]\n",
    "    number = row[1]\n",
    "    if i == 0:\n",
    "        biggest_name = name\n",
    "        biggest_number = number\n",
    "        lowest_name = name\n",
    "        lowest_number = number\n",
    "    else:\n",
    "        if number > biggest_number:\n",
    "            biggest_name = name\n",
    "            biggest_number = number\n",
    "        \n",
    "        if number < lowest_number:\n",
    "            lowest_name = name\n",
    "            lowest_number = number"
   ]
  },
  {
   "cell_type": "code",
   "execution_count": 96,
   "metadata": {
    "collapsed": false
   },
   "outputs": [
    {
     "data": {
      "text/plain": [
       "('mitte', 3781)"
      ]
     },
     "execution_count": 96,
     "metadata": {},
     "output_type": "execute_result"
    }
   ],
   "source": [
    "biggest_name, biggest_number"
   ]
  },
  {
   "cell_type": "code",
   "execution_count": 97,
   "metadata": {
    "collapsed": false
   },
   "outputs": [
    {
     "data": {
      "text/plain": [
       "('marzahn-hellersdorf', 1037)"
      ]
     },
     "execution_count": 97,
     "metadata": {},
     "output_type": "execute_result"
    }
   ],
   "source": [
    "lowest_name, lowest_number"
   ]
  },
  {
   "cell_type": "code",
   "execution_count": 91,
   "metadata": {
    "collapsed": false
   },
   "outputs": [
    {
     "name": "stdout",
     "output_type": "stream",
     "text": [
      "friedrichshain-kreuzberg 3450\n",
      "tempelhof-schoeneberg 3576\n",
      "spandau 2514\n",
      "mitte 3781\n",
      "lichtenberg 2159\n",
      "pankow 2520\n",
      "charlottenburg-wilmersdorf 3501\n",
      "reinickendorf 1215\n",
      "marzahn-hellersdorf 1037\n",
      "treptow-koepenick 1114\n",
      "steglitz-zehlendorf 1083\n",
      "neukoelln 2724\n"
     ]
    }
   ],
   "source": [
    "for i, row in df_ngb.iterrows():\n",
    "    print(row[0], row[1])"
   ]
  },
  {
   "cell_type": "code",
   "execution_count": 86,
   "metadata": {
    "collapsed": false
   },
   "outputs": [
    {
     "data": {
      "text/html": [
       "<div>\n",
       "<table border=\"1\" class=\"dataframe\">\n",
       "  <thead>\n",
       "    <tr style=\"text-align: right;\">\n",
       "      <th></th>\n",
       "      <th>0</th>\n",
       "      <th>1</th>\n",
       "    </tr>\n",
       "  </thead>\n",
       "  <tbody>\n",
       "    <tr>\n",
       "      <th>0</th>\n",
       "      <td>friedrichshain-kreuzberg</td>\n",
       "      <td>3450</td>\n",
       "    </tr>\n",
       "    <tr>\n",
       "      <th>1</th>\n",
       "      <td>tempelhof-schoeneberg</td>\n",
       "      <td>3576</td>\n",
       "    </tr>\n",
       "    <tr>\n",
       "      <th>2</th>\n",
       "      <td>spandau</td>\n",
       "      <td>2514</td>\n",
       "    </tr>\n",
       "    <tr>\n",
       "      <th>3</th>\n",
       "      <td>mitte</td>\n",
       "      <td>3781</td>\n",
       "    </tr>\n",
       "    <tr>\n",
       "      <th>4</th>\n",
       "      <td>lichtenberg</td>\n",
       "      <td>2159</td>\n",
       "    </tr>\n",
       "    <tr>\n",
       "      <th>5</th>\n",
       "      <td>pankow</td>\n",
       "      <td>2520</td>\n",
       "    </tr>\n",
       "    <tr>\n",
       "      <th>6</th>\n",
       "      <td>charlottenburg-wilmersdorf</td>\n",
       "      <td>3501</td>\n",
       "    </tr>\n",
       "    <tr>\n",
       "      <th>7</th>\n",
       "      <td>reinickendorf</td>\n",
       "      <td>1215</td>\n",
       "    </tr>\n",
       "    <tr>\n",
       "      <th>8</th>\n",
       "      <td>marzahn-hellersdorf</td>\n",
       "      <td>1037</td>\n",
       "    </tr>\n",
       "    <tr>\n",
       "      <th>9</th>\n",
       "      <td>treptow-koepenick</td>\n",
       "      <td>1114</td>\n",
       "    </tr>\n",
       "    <tr>\n",
       "      <th>10</th>\n",
       "      <td>steglitz-zehlendorf</td>\n",
       "      <td>1083</td>\n",
       "    </tr>\n",
       "    <tr>\n",
       "      <th>11</th>\n",
       "      <td>neukoelln</td>\n",
       "      <td>2724</td>\n",
       "    </tr>\n",
       "  </tbody>\n",
       "</table>\n",
       "</div>"
      ],
      "text/plain": [
       "                             0     1\n",
       "0     friedrichshain-kreuzberg  3450\n",
       "1        tempelhof-schoeneberg  3576\n",
       "2                      spandau  2514\n",
       "3                        mitte  3781\n",
       "4                  lichtenberg  2159\n",
       "5                       pankow  2520\n",
       "6   charlottenburg-wilmersdorf  3501\n",
       "7                reinickendorf  1215\n",
       "8          marzahn-hellersdorf  1037\n",
       "9            treptow-koepenick  1114\n",
       "10         steglitz-zehlendorf  1083\n",
       "11                   neukoelln  2724"
      ]
     },
     "execution_count": 86,
     "metadata": {},
     "output_type": "execute_result"
    }
   ],
   "source": [
    "df_ngb"
   ]
  },
  {
   "cell_type": "code",
   "execution_count": 98,
   "metadata": {
    "collapsed": false
   },
   "outputs": [
    {
     "name": "stdout",
     "output_type": "stream",
     "text": [
      "Populating the interactive namespace from numpy and matplotlib\n"
     ]
    },
    {
     "name": "stderr",
     "output_type": "stream",
     "text": [
      "/home/walrus/.virtualenvs/py3/lib/python3.5/site-packages/IPython/core/magics/pylab.py:161: UserWarning: pylab import has clobbered these variables: ['number']\n",
      "`%matplotlib` prevents importing * from pylab and numpy\n",
      "  \"\\n`%matplotlib` prevents importing * from pylab and numpy\"\n"
     ]
    }
   ],
   "source": [
    "%pylab inline"
   ]
  },
  {
   "cell_type": "code",
   "execution_count": 105,
   "metadata": {
    "collapsed": false
   },
   "outputs": [
    {
     "data": {
      "text/plain": [
       "<matplotlib.axes._subplots.AxesSubplot at 0x7f44b2bacf98>"
      ]
     },
     "execution_count": 105,
     "metadata": {},
     "output_type": "execute_result"
    },
    {
     "data": {
      "image/png": "[encoded data removed]",
      "text/plain": [
       "<matplotlib.figure.Figure at 0x7f44b2c03898>"
      ]
     },
     "metadata": {},
     "output_type": "display_data"
    }
   ],
   "source": [
    "df_ngb.plot.bar(x=df_ngb[0])\n"
   ]
  },
  {
   "cell_type": "code",
   "execution_count": null,
   "metadata": {
    "collapsed": true
   },
   "outputs": [],
   "source": []
  },
  {
   "cell_type": "code",
   "execution_count": 108,
   "metadata": {
    "collapsed": false
   },
   "outputs": [
    {
     "data": {
      "text/plain": [
       "<matplotlib.axes._subplots.AxesSubplot at 0x7f44b29587b8>"
      ]
     },
     "execution_count": 108,
     "metadata": {},
     "output_type": "execute_result"
    },
    {
     "data": {
      "image/png": "[encoded data removed]",
      "text/plain": [
       "<matplotlib.figure.Figure at 0x7f44b28fa9b0>"
      ]
     },
     "metadata": {},
     "output_type": "display_data"
    }
   ],
   "source": [
    "df_ngb.plot.barh(x=df_ngb[0], title='Unique Names')\n"
   ]
  },
  {
   "cell_type": "code",
   "execution_count": 111,
   "metadata": {
    "collapsed": false
   },
   "outputs": [
    {
     "name": "stderr",
     "output_type": "stream",
     "text": [
      "/home/walrus/.virtualenvs/py3/lib/python3.5/site-packages/ipykernel/__main__.py:1: FutureWarning: sort(columns=....) is deprecated, use sort_values(by=.....)\n",
      "  if __name__ == '__main__':\n"
     ]
    }
   ],
   "source": [
    "df_ngb = df_ngb.sort(1)"
   ]
  },
  {
   "cell_type": "code",
   "execution_count": 112,
   "metadata": {
    "collapsed": false
   },
   "outputs": [
    {
     "data": {
      "text/plain": [
       "<matplotlib.axes._subplots.AxesSubplot at 0x7f44b28fa748>"
      ]
     },
     "execution_count": 112,
     "metadata": {},
     "output_type": "execute_result"
    },
    {
     "data": {
      "image/png": "[encoded data removed]",
      "text/plain": [
       "<matplotlib.figure.Figure at 0x7f44b291d978>"
      ]
     },
     "metadata": {},
     "output_type": "display_data"
    }
   ],
   "source": [
    "df_ngb.plot.barh(x=df_ngb[0], title='Unique Names')\n"
   ]
  },
  {
   "cell_type": "code",
   "execution_count": 128,
   "metadata": {
    "collapsed": false
   },
   "outputs": [],
   "source": [
    "min_row = df_ngb[1].idxmin()"
   ]
  },
  {
   "cell_type": "code",
   "execution_count": 130,
   "metadata": {
    "collapsed": false
   },
   "outputs": [
    {
     "data": {
      "text/plain": [
       "0    marzahn-hellersdorf\n",
       "1                   1037\n",
       "Name: 8, dtype: object"
      ]
     },
     "execution_count": 130,
     "metadata": {},
     "output_type": "execute_result"
    }
   ],
   "source": [
    "df_ngb.loc[min_row]"
   ]
  },
  {
   "cell_type": "code",
   "execution_count": null,
   "metadata": {
    "collapsed": true
   },
   "outputs": [],
   "source": [
    "saas"
   ]
  }
 ],
 "metadata": {
  "kernelspec": {
   "display_name": "Python 3",
   "language": "python",
   "name": "python3"
  },
  "language_info": {
   "codemirror_mode": {
    "name": "ipython",
    "version": 3
   },
   "file_extension": ".py",
   "mimetype": "text/x-python",
   "name": "python",
   "nbconvert_exporter": "python",
   "pygments_lexer": "ipython3",
   "version": "3.5.2"
  }
 },
 "nbformat": 4,
 "nbformat_minor": 2
}
