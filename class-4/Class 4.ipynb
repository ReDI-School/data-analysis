{
 "cells": [
  {
   "cell_type": "code",
   "execution_count": 1,
   "metadata": {
    "collapsed": true
   },
   "outputs": [],
   "source": [
    "# Load Pandas using the name pd\n",
    "\n",
    "import pandas as pd"
   ]
  },
  {
   "cell_type": "code",
   "execution_count": 53,
   "metadata": {
    "collapsed": true
   },
   "outputs": [],
   "source": [
    "# Load our dataset\n",
    "\n",
    "berlin_names = pd.read_csv('./berlin_names.csv')"
   ]
  },
  {
   "cell_type": "markdown",
   "metadata": {},
   "source": [
    "#  Where is the neighborhood with more different names?"
   ]
  },
  {
   "cell_type": "markdown",
   "metadata": {},
   "source": [
    "First let's see how many different names exist in one neighbourhood:"
   ]
  },
  {
   "cell_type": "code",
   "execution_count": 4,
   "metadata": {
    "collapsed": true
   },
   "outputs": [],
   "source": [
    "bn = berlin_names[berlin_names['bezirke'] == 'friedrichshain-kreuzberg']"
   ]
  },
  {
   "cell_type": "markdown",
   "metadata": {},
   "source": [
    "This give us the list of all names in Friedrichshain-Kreuzberg:"
   ]
  },
  {
   "cell_type": "code",
   "execution_count": 6,
   "metadata": {
    "collapsed": false
   },
   "outputs": [
    {
     "data": {
      "text/html": [
       "<div>\n",
       "<table border=\"1\" class=\"dataframe\">\n",
       "  <thead>\n",
       "    <tr style=\"text-align: right;\">\n",
       "      <th></th>\n",
       "      <th>Unnamed: 0</th>\n",
       "      <th>vorname</th>\n",
       "      <th>anzahl</th>\n",
       "      <th>geschlecht</th>\n",
       "      <th>bezirke</th>\n",
       "      <th>name length</th>\n",
       "    </tr>\n",
       "  </thead>\n",
       "  <tbody>\n",
       "    <tr>\n",
       "      <th>0</th>\n",
       "      <td>0</td>\n",
       "      <td>Charlotte</td>\n",
       "      <td>64</td>\n",
       "      <td>w</td>\n",
       "      <td>friedrichshain-kreuzberg</td>\n",
       "      <td>9</td>\n",
       "    </tr>\n",
       "    <tr>\n",
       "      <th>1</th>\n",
       "      <td>1</td>\n",
       "      <td>Marie</td>\n",
       "      <td>51</td>\n",
       "      <td>w</td>\n",
       "      <td>friedrichshain-kreuzberg</td>\n",
       "      <td>5</td>\n",
       "    </tr>\n",
       "    <tr>\n",
       "      <th>2</th>\n",
       "      <td>2</td>\n",
       "      <td>Sophie</td>\n",
       "      <td>50</td>\n",
       "      <td>w</td>\n",
       "      <td>friedrichshain-kreuzberg</td>\n",
       "      <td>6</td>\n",
       "    </tr>\n",
       "    <tr>\n",
       "      <th>3</th>\n",
       "      <td>3</td>\n",
       "      <td>Anton</td>\n",
       "      <td>42</td>\n",
       "      <td>m</td>\n",
       "      <td>friedrichshain-kreuzberg</td>\n",
       "      <td>5</td>\n",
       "    </tr>\n",
       "    <tr>\n",
       "      <th>4</th>\n",
       "      <td>4</td>\n",
       "      <td>Emma</td>\n",
       "      <td>42</td>\n",
       "      <td>w</td>\n",
       "      <td>friedrichshain-kreuzberg</td>\n",
       "      <td>4</td>\n",
       "    </tr>\n",
       "    <tr>\n",
       "      <th>5</th>\n",
       "      <td>5</td>\n",
       "      <td>Maria</td>\n",
       "      <td>42</td>\n",
       "      <td>w</td>\n",
       "      <td>friedrichshain-kreuzberg</td>\n",
       "      <td>5</td>\n",
       "    </tr>\n",
       "    <tr>\n",
       "      <th>6</th>\n",
       "      <td>6</td>\n",
       "      <td>Emil</td>\n",
       "      <td>41</td>\n",
       "      <td>m</td>\n",
       "      <td>friedrichshain-kreuzberg</td>\n",
       "      <td>4</td>\n",
       "    </tr>\n",
       "    <tr>\n",
       "      <th>7</th>\n",
       "      <td>7</td>\n",
       "      <td>Ali</td>\n",
       "      <td>40</td>\n",
       "      <td>m</td>\n",
       "      <td>friedrichshain-kreuzberg</td>\n",
       "      <td>3</td>\n",
       "    </tr>\n",
       "    <tr>\n",
       "      <th>8</th>\n",
       "      <td>8</td>\n",
       "      <td>Alexander</td>\n",
       "      <td>39</td>\n",
       "      <td>m</td>\n",
       "      <td>friedrichshain-kreuzberg</td>\n",
       "      <td>9</td>\n",
       "    </tr>\n",
       "    <tr>\n",
       "      <th>9</th>\n",
       "      <td>9</td>\n",
       "      <td>Anna</td>\n",
       "      <td>39</td>\n",
       "      <td>w</td>\n",
       "      <td>friedrichshain-kreuzberg</td>\n",
       "      <td>4</td>\n",
       "    </tr>\n",
       "    <tr>\n",
       "      <th>10</th>\n",
       "      <td>10</td>\n",
       "      <td>Leon</td>\n",
       "      <td>37</td>\n",
       "      <td>m</td>\n",
       "      <td>friedrichshain-kreuzberg</td>\n",
       "      <td>4</td>\n",
       "    </tr>\n",
       "    <tr>\n",
       "      <th>11</th>\n",
       "      <td>11</td>\n",
       "      <td>Mia</td>\n",
       "      <td>37</td>\n",
       "      <td>w</td>\n",
       "      <td>friedrichshain-kreuzberg</td>\n",
       "      <td>3</td>\n",
       "    </tr>\n",
       "    <tr>\n",
       "      <th>12</th>\n",
       "      <td>12</td>\n",
       "      <td>Elias</td>\n",
       "      <td>35</td>\n",
       "      <td>m</td>\n",
       "      <td>friedrichshain-kreuzberg</td>\n",
       "      <td>5</td>\n",
       "    </tr>\n",
       "    <tr>\n",
       "      <th>13</th>\n",
       "      <td>13</td>\n",
       "      <td>Karl</td>\n",
       "      <td>33</td>\n",
       "      <td>m</td>\n",
       "      <td>friedrichshain-kreuzberg</td>\n",
       "      <td>4</td>\n",
       "    </tr>\n",
       "    <tr>\n",
       "      <th>14</th>\n",
       "      <td>14</td>\n",
       "      <td>Paul</td>\n",
       "      <td>33</td>\n",
       "      <td>m</td>\n",
       "      <td>friedrichshain-kreuzberg</td>\n",
       "      <td>4</td>\n",
       "    </tr>\n",
       "    <tr>\n",
       "      <th>15</th>\n",
       "      <td>15</td>\n",
       "      <td>Oskar</td>\n",
       "      <td>31</td>\n",
       "      <td>m</td>\n",
       "      <td>friedrichshain-kreuzberg</td>\n",
       "      <td>5</td>\n",
       "    </tr>\n",
       "    <tr>\n",
       "      <th>16</th>\n",
       "      <td>16</td>\n",
       "      <td>Luise</td>\n",
       "      <td>30</td>\n",
       "      <td>w</td>\n",
       "      <td>friedrichshain-kreuzberg</td>\n",
       "      <td>5</td>\n",
       "    </tr>\n",
       "    <tr>\n",
       "      <th>17</th>\n",
       "      <td>17</td>\n",
       "      <td>Felix</td>\n",
       "      <td>30</td>\n",
       "      <td>m</td>\n",
       "      <td>friedrichshain-kreuzberg</td>\n",
       "      <td>5</td>\n",
       "    </tr>\n",
       "    <tr>\n",
       "      <th>18</th>\n",
       "      <td>18</td>\n",
       "      <td>Ella</td>\n",
       "      <td>29</td>\n",
       "      <td>w</td>\n",
       "      <td>friedrichshain-kreuzberg</td>\n",
       "      <td>4</td>\n",
       "    </tr>\n",
       "    <tr>\n",
       "      <th>19</th>\n",
       "      <td>19</td>\n",
       "      <td>Noah</td>\n",
       "      <td>29</td>\n",
       "      <td>m</td>\n",
       "      <td>friedrichshain-kreuzberg</td>\n",
       "      <td>4</td>\n",
       "    </tr>\n",
       "    <tr>\n",
       "      <th>20</th>\n",
       "      <td>20</td>\n",
       "      <td>Johanna</td>\n",
       "      <td>28</td>\n",
       "      <td>w</td>\n",
       "      <td>friedrichshain-kreuzberg</td>\n",
       "      <td>7</td>\n",
       "    </tr>\n",
       "    <tr>\n",
       "      <th>21</th>\n",
       "      <td>21</td>\n",
       "      <td>Henry</td>\n",
       "      <td>28</td>\n",
       "      <td>m</td>\n",
       "      <td>friedrichshain-kreuzberg</td>\n",
       "      <td>5</td>\n",
       "    </tr>\n",
       "    <tr>\n",
       "      <th>22</th>\n",
       "      <td>22</td>\n",
       "      <td>Jonas</td>\n",
       "      <td>27</td>\n",
       "      <td>m</td>\n",
       "      <td>friedrichshain-kreuzberg</td>\n",
       "      <td>5</td>\n",
       "    </tr>\n",
       "    <tr>\n",
       "      <th>23</th>\n",
       "      <td>23</td>\n",
       "      <td>Paula</td>\n",
       "      <td>26</td>\n",
       "      <td>w</td>\n",
       "      <td>friedrichshain-kreuzberg</td>\n",
       "      <td>5</td>\n",
       "    </tr>\n",
       "    <tr>\n",
       "      <th>24</th>\n",
       "      <td>24</td>\n",
       "      <td>Jonathan</td>\n",
       "      <td>26</td>\n",
       "      <td>m</td>\n",
       "      <td>friedrichshain-kreuzberg</td>\n",
       "      <td>8</td>\n",
       "    </tr>\n",
       "    <tr>\n",
       "      <th>25</th>\n",
       "      <td>25</td>\n",
       "      <td>Maximilian</td>\n",
       "      <td>26</td>\n",
       "      <td>m</td>\n",
       "      <td>friedrichshain-kreuzberg</td>\n",
       "      <td>10</td>\n",
       "    </tr>\n",
       "    <tr>\n",
       "      <th>26</th>\n",
       "      <td>26</td>\n",
       "      <td>Emilia</td>\n",
       "      <td>24</td>\n",
       "      <td>w</td>\n",
       "      <td>friedrichshain-kreuzberg</td>\n",
       "      <td>6</td>\n",
       "    </tr>\n",
       "    <tr>\n",
       "      <th>27</th>\n",
       "      <td>27</td>\n",
       "      <td>Mira</td>\n",
       "      <td>24</td>\n",
       "      <td>w</td>\n",
       "      <td>friedrichshain-kreuzberg</td>\n",
       "      <td>4</td>\n",
       "    </tr>\n",
       "    <tr>\n",
       "      <th>28</th>\n",
       "      <td>28</td>\n",
       "      <td>Jakob</td>\n",
       "      <td>24</td>\n",
       "      <td>m</td>\n",
       "      <td>friedrichshain-kreuzberg</td>\n",
       "      <td>5</td>\n",
       "    </tr>\n",
       "    <tr>\n",
       "      <th>29</th>\n",
       "      <td>29</td>\n",
       "      <td>Valentin</td>\n",
       "      <td>24</td>\n",
       "      <td>m</td>\n",
       "      <td>friedrichshain-kreuzberg</td>\n",
       "      <td>8</td>\n",
       "    </tr>\n",
       "    <tr>\n",
       "      <th>...</th>\n",
       "      <td>...</td>\n",
       "      <td>...</td>\n",
       "      <td>...</td>\n",
       "      <td>...</td>\n",
       "      <td>...</td>\n",
       "      <td>...</td>\n",
       "    </tr>\n",
       "    <tr>\n",
       "      <th>3490</th>\n",
       "      <td>3491</td>\n",
       "      <td>Yoshi</td>\n",
       "      <td>1</td>\n",
       "      <td>m</td>\n",
       "      <td>friedrichshain-kreuzberg</td>\n",
       "      <td>5</td>\n",
       "    </tr>\n",
       "    <tr>\n",
       "      <th>3491</th>\n",
       "      <td>3492</td>\n",
       "      <td>Youme</td>\n",
       "      <td>1</td>\n",
       "      <td>m</td>\n",
       "      <td>friedrichshain-kreuzberg</td>\n",
       "      <td>5</td>\n",
       "    </tr>\n",
       "    <tr>\n",
       "      <th>3492</th>\n",
       "      <td>3493</td>\n",
       "      <td>Younis</td>\n",
       "      <td>1</td>\n",
       "      <td>m</td>\n",
       "      <td>friedrichshain-kreuzberg</td>\n",
       "      <td>6</td>\n",
       "    </tr>\n",
       "    <tr>\n",
       "      <th>3493</th>\n",
       "      <td>3494</td>\n",
       "      <td>Yousef</td>\n",
       "      <td>1</td>\n",
       "      <td>m</td>\n",
       "      <td>friedrichshain-kreuzberg</td>\n",
       "      <td>6</td>\n",
       "    </tr>\n",
       "    <tr>\n",
       "      <th>3494</th>\n",
       "      <td>3495</td>\n",
       "      <td>Yufitri</td>\n",
       "      <td>1</td>\n",
       "      <td>m</td>\n",
       "      <td>friedrichshain-kreuzberg</td>\n",
       "      <td>7</td>\n",
       "    </tr>\n",
       "    <tr>\n",
       "      <th>3495</th>\n",
       "      <td>3496</td>\n",
       "      <td>Yuki</td>\n",
       "      <td>1</td>\n",
       "      <td>m</td>\n",
       "      <td>friedrichshain-kreuzberg</td>\n",
       "      <td>4</td>\n",
       "    </tr>\n",
       "    <tr>\n",
       "      <th>3496</th>\n",
       "      <td>3497</td>\n",
       "      <td>Yul</td>\n",
       "      <td>1</td>\n",
       "      <td>m</td>\n",
       "      <td>friedrichshain-kreuzberg</td>\n",
       "      <td>3</td>\n",
       "    </tr>\n",
       "    <tr>\n",
       "      <th>3497</th>\n",
       "      <td>3498</td>\n",
       "      <td>Yuliyan</td>\n",
       "      <td>1</td>\n",
       "      <td>m</td>\n",
       "      <td>friedrichshain-kreuzberg</td>\n",
       "      <td>7</td>\n",
       "    </tr>\n",
       "    <tr>\n",
       "      <th>3498</th>\n",
       "      <td>3499</td>\n",
       "      <td>Yunes</td>\n",
       "      <td>1</td>\n",
       "      <td>m</td>\n",
       "      <td>friedrichshain-kreuzberg</td>\n",
       "      <td>5</td>\n",
       "    </tr>\n",
       "    <tr>\n",
       "      <th>3499</th>\n",
       "      <td>3500</td>\n",
       "      <td>Yunis</td>\n",
       "      <td>1</td>\n",
       "      <td>m</td>\n",
       "      <td>friedrichshain-kreuzberg</td>\n",
       "      <td>5</td>\n",
       "    </tr>\n",
       "    <tr>\n",
       "      <th>3500</th>\n",
       "      <td>3501</td>\n",
       "      <td>Yurij</td>\n",
       "      <td>1</td>\n",
       "      <td>m</td>\n",
       "      <td>friedrichshain-kreuzberg</td>\n",
       "      <td>5</td>\n",
       "    </tr>\n",
       "    <tr>\n",
       "      <th>3501</th>\n",
       "      <td>3502</td>\n",
       "      <td>Yussif</td>\n",
       "      <td>1</td>\n",
       "      <td>m</td>\n",
       "      <td>friedrichshain-kreuzberg</td>\n",
       "      <td>6</td>\n",
       "    </tr>\n",
       "    <tr>\n",
       "      <th>3502</th>\n",
       "      <td>3503</td>\n",
       "      <td>Zahir</td>\n",
       "      <td>1</td>\n",
       "      <td>m</td>\n",
       "      <td>friedrichshain-kreuzberg</td>\n",
       "      <td>5</td>\n",
       "    </tr>\n",
       "    <tr>\n",
       "      <th>3503</th>\n",
       "      <td>3504</td>\n",
       "      <td>Zaid</td>\n",
       "      <td>1</td>\n",
       "      <td>m</td>\n",
       "      <td>friedrichshain-kreuzberg</td>\n",
       "      <td>4</td>\n",
       "    </tr>\n",
       "    <tr>\n",
       "      <th>3504</th>\n",
       "      <td>3505</td>\n",
       "      <td>Zaire</td>\n",
       "      <td>1</td>\n",
       "      <td>m</td>\n",
       "      <td>friedrichshain-kreuzberg</td>\n",
       "      <td>5</td>\n",
       "    </tr>\n",
       "    <tr>\n",
       "      <th>3505</th>\n",
       "      <td>3506</td>\n",
       "      <td>Zamzamtama</td>\n",
       "      <td>1</td>\n",
       "      <td>m</td>\n",
       "      <td>friedrichshain-kreuzberg</td>\n",
       "      <td>10</td>\n",
       "    </tr>\n",
       "    <tr>\n",
       "      <th>3506</th>\n",
       "      <td>3507</td>\n",
       "      <td>Zeno</td>\n",
       "      <td>1</td>\n",
       "      <td>m</td>\n",
       "      <td>friedrichshain-kreuzberg</td>\n",
       "      <td>4</td>\n",
       "    </tr>\n",
       "    <tr>\n",
       "      <th>3507</th>\n",
       "      <td>3508</td>\n",
       "      <td>Zente</td>\n",
       "      <td>1</td>\n",
       "      <td>m</td>\n",
       "      <td>friedrichshain-kreuzberg</td>\n",
       "      <td>5</td>\n",
       "    </tr>\n",
       "    <tr>\n",
       "      <th>3508</th>\n",
       "      <td>3509</td>\n",
       "      <td>Zidan</td>\n",
       "      <td>1</td>\n",
       "      <td>m</td>\n",
       "      <td>friedrichshain-kreuzberg</td>\n",
       "      <td>5</td>\n",
       "    </tr>\n",
       "    <tr>\n",
       "      <th>3509</th>\n",
       "      <td>3510</td>\n",
       "      <td>Zidane</td>\n",
       "      <td>1</td>\n",
       "      <td>m</td>\n",
       "      <td>friedrichshain-kreuzberg</td>\n",
       "      <td>6</td>\n",
       "    </tr>\n",
       "    <tr>\n",
       "      <th>3510</th>\n",
       "      <td>3511</td>\n",
       "      <td>Zineddine</td>\n",
       "      <td>1</td>\n",
       "      <td>m</td>\n",
       "      <td>friedrichshain-kreuzberg</td>\n",
       "      <td>9</td>\n",
       "    </tr>\n",
       "    <tr>\n",
       "      <th>3511</th>\n",
       "      <td>3512</td>\n",
       "      <td>Zuriel</td>\n",
       "      <td>1</td>\n",
       "      <td>m</td>\n",
       "      <td>friedrichshain-kreuzberg</td>\n",
       "      <td>6</td>\n",
       "    </tr>\n",
       "    <tr>\n",
       "      <th>3512</th>\n",
       "      <td>3513</td>\n",
       "      <td>Çağatay</td>\n",
       "      <td>1</td>\n",
       "      <td>m</td>\n",
       "      <td>friedrichshain-kreuzberg</td>\n",
       "      <td>7</td>\n",
       "    </tr>\n",
       "    <tr>\n",
       "      <th>3513</th>\n",
       "      <td>3514</td>\n",
       "      <td>Étienne</td>\n",
       "      <td>1</td>\n",
       "      <td>m</td>\n",
       "      <td>friedrichshain-kreuzberg</td>\n",
       "      <td>7</td>\n",
       "    </tr>\n",
       "    <tr>\n",
       "      <th>3514</th>\n",
       "      <td>3515</td>\n",
       "      <td>Önder</td>\n",
       "      <td>1</td>\n",
       "      <td>m</td>\n",
       "      <td>friedrichshain-kreuzberg</td>\n",
       "      <td>5</td>\n",
       "    </tr>\n",
       "    <tr>\n",
       "      <th>3515</th>\n",
       "      <td>3516</td>\n",
       "      <td>Özkan</td>\n",
       "      <td>1</td>\n",
       "      <td>m</td>\n",
       "      <td>friedrichshain-kreuzberg</td>\n",
       "      <td>5</td>\n",
       "    </tr>\n",
       "    <tr>\n",
       "      <th>3516</th>\n",
       "      <td>3517</td>\n",
       "      <td>Đuc</td>\n",
       "      <td>1</td>\n",
       "      <td>m</td>\n",
       "      <td>friedrichshain-kreuzberg</td>\n",
       "      <td>3</td>\n",
       "    </tr>\n",
       "    <tr>\n",
       "      <th>3517</th>\n",
       "      <td>3518</td>\n",
       "      <td>Đưc</td>\n",
       "      <td>1</td>\n",
       "      <td>m</td>\n",
       "      <td>friedrichshain-kreuzberg</td>\n",
       "      <td>3</td>\n",
       "    </tr>\n",
       "    <tr>\n",
       "      <th>3518</th>\n",
       "      <td>3519</td>\n",
       "      <td>Đạt</td>\n",
       "      <td>1</td>\n",
       "      <td>m</td>\n",
       "      <td>friedrichshain-kreuzberg</td>\n",
       "      <td>3</td>\n",
       "    </tr>\n",
       "    <tr>\n",
       "      <th>3519</th>\n",
       "      <td>3520</td>\n",
       "      <td>Şükrü</td>\n",
       "      <td>1</td>\n",
       "      <td>m</td>\n",
       "      <td>friedrichshain-kreuzberg</td>\n",
       "      <td>5</td>\n",
       "    </tr>\n",
       "  </tbody>\n",
       "</table>\n",
       "<p>3520 rows × 6 columns</p>\n",
       "</div>"
      ],
      "text/plain": [
       "      Unnamed: 0     vorname  anzahl geschlecht                   bezirke  \\\n",
       "0              0   Charlotte      64          w  friedrichshain-kreuzberg   \n",
       "1              1       Marie      51          w  friedrichshain-kreuzberg   \n",
       "2              2      Sophie      50          w  friedrichshain-kreuzberg   \n",
       "3              3       Anton      42          m  friedrichshain-kreuzberg   \n",
       "4              4        Emma      42          w  friedrichshain-kreuzberg   \n",
       "5              5       Maria      42          w  friedrichshain-kreuzberg   \n",
       "6              6        Emil      41          m  friedrichshain-kreuzberg   \n",
       "7              7         Ali      40          m  friedrichshain-kreuzberg   \n",
       "8              8   Alexander      39          m  friedrichshain-kreuzberg   \n",
       "9              9        Anna      39          w  friedrichshain-kreuzberg   \n",
       "10            10        Leon      37          m  friedrichshain-kreuzberg   \n",
       "11            11         Mia      37          w  friedrichshain-kreuzberg   \n",
       "12            12       Elias      35          m  friedrichshain-kreuzberg   \n",
       "13            13        Karl      33          m  friedrichshain-kreuzberg   \n",
       "14            14        Paul      33          m  friedrichshain-kreuzberg   \n",
       "15            15       Oskar      31          m  friedrichshain-kreuzberg   \n",
       "16            16       Luise      30          w  friedrichshain-kreuzberg   \n",
       "17            17       Felix      30          m  friedrichshain-kreuzberg   \n",
       "18            18        Ella      29          w  friedrichshain-kreuzberg   \n",
       "19            19        Noah      29          m  friedrichshain-kreuzberg   \n",
       "20            20     Johanna      28          w  friedrichshain-kreuzberg   \n",
       "21            21       Henry      28          m  friedrichshain-kreuzberg   \n",
       "22            22       Jonas      27          m  friedrichshain-kreuzberg   \n",
       "23            23       Paula      26          w  friedrichshain-kreuzberg   \n",
       "24            24    Jonathan      26          m  friedrichshain-kreuzberg   \n",
       "25            25  Maximilian      26          m  friedrichshain-kreuzberg   \n",
       "26            26      Emilia      24          w  friedrichshain-kreuzberg   \n",
       "27            27        Mira      24          w  friedrichshain-kreuzberg   \n",
       "28            28       Jakob      24          m  friedrichshain-kreuzberg   \n",
       "29            29    Valentin      24          m  friedrichshain-kreuzberg   \n",
       "...          ...         ...     ...        ...                       ...   \n",
       "3490        3491       Yoshi       1          m  friedrichshain-kreuzberg   \n",
       "3491        3492       Youme       1          m  friedrichshain-kreuzberg   \n",
       "3492        3493      Younis       1          m  friedrichshain-kreuzberg   \n",
       "3493        3494      Yousef       1          m  friedrichshain-kreuzberg   \n",
       "3494        3495     Yufitri       1          m  friedrichshain-kreuzberg   \n",
       "3495        3496        Yuki       1          m  friedrichshain-kreuzberg   \n",
       "3496        3497         Yul       1          m  friedrichshain-kreuzberg   \n",
       "3497        3498     Yuliyan       1          m  friedrichshain-kreuzberg   \n",
       "3498        3499       Yunes       1          m  friedrichshain-kreuzberg   \n",
       "3499        3500       Yunis       1          m  friedrichshain-kreuzberg   \n",
       "3500        3501       Yurij       1          m  friedrichshain-kreuzberg   \n",
       "3501        3502      Yussif       1          m  friedrichshain-kreuzberg   \n",
       "3502        3503       Zahir       1          m  friedrichshain-kreuzberg   \n",
       "3503        3504        Zaid       1          m  friedrichshain-kreuzberg   \n",
       "3504        3505       Zaire       1          m  friedrichshain-kreuzberg   \n",
       "3505        3506  Zamzamtama       1          m  friedrichshain-kreuzberg   \n",
       "3506        3507        Zeno       1          m  friedrichshain-kreuzberg   \n",
       "3507        3508       Zente       1          m  friedrichshain-kreuzberg   \n",
       "3508        3509       Zidan       1          m  friedrichshain-kreuzberg   \n",
       "3509        3510      Zidane       1          m  friedrichshain-kreuzberg   \n",
       "3510        3511   Zineddine       1          m  friedrichshain-kreuzberg   \n",
       "3511        3512      Zuriel       1          m  friedrichshain-kreuzberg   \n",
       "3512        3513     Çağatay       1          m  friedrichshain-kreuzberg   \n",
       "3513        3514     Étienne       1          m  friedrichshain-kreuzberg   \n",
       "3514        3515       Önder       1          m  friedrichshain-kreuzberg   \n",
       "3515        3516       Özkan       1          m  friedrichshain-kreuzberg   \n",
       "3516        3517         Đuc       1          m  friedrichshain-kreuzberg   \n",
       "3517        3518         Đưc       1          m  friedrichshain-kreuzberg   \n",
       "3518        3519         Đạt       1          m  friedrichshain-kreuzberg   \n",
       "3519        3520       Şükrü       1          m  friedrichshain-kreuzberg   \n",
       "\n",
       "      name length  \n",
       "0               9  \n",
       "1               5  \n",
       "2               6  \n",
       "3               5  \n",
       "4               4  \n",
       "5               5  \n",
       "6               4  \n",
       "7               3  \n",
       "8               9  \n",
       "9               4  \n",
       "10              4  \n",
       "11              3  \n",
       "12              5  \n",
       "13              4  \n",
       "14              4  \n",
       "15              5  \n",
       "16              5  \n",
       "17              5  \n",
       "18              4  \n",
       "19              4  \n",
       "20              7  \n",
       "21              5  \n",
       "22              5  \n",
       "23              5  \n",
       "24              8  \n",
       "25             10  \n",
       "26              6  \n",
       "27              4  \n",
       "28              5  \n",
       "29              8  \n",
       "...           ...  \n",
       "3490            5  \n",
       "3491            5  \n",
       "3492            6  \n",
       "3493            6  \n",
       "3494            7  \n",
       "3495            4  \n",
       "3496            3  \n",
       "3497            7  \n",
       "3498            5  \n",
       "3499            5  \n",
       "3500            5  \n",
       "3501            6  \n",
       "3502            5  \n",
       "3503            4  \n",
       "3504            5  \n",
       "3505           10  \n",
       "3506            4  \n",
       "3507            5  \n",
       "3508            5  \n",
       "3509            6  \n",
       "3510            9  \n",
       "3511            6  \n",
       "3512            7  \n",
       "3513            7  \n",
       "3514            5  \n",
       "3515            5  \n",
       "3516            3  \n",
       "3517            3  \n",
       "3518            3  \n",
       "3519            5  \n",
       "\n",
       "[3520 rows x 6 columns]"
      ]
     },
     "execution_count": 6,
     "metadata": {},
     "output_type": "execute_result"
    }
   ],
   "source": [
    "bn"
   ]
  },
  {
   "cell_type": "markdown",
   "metadata": {},
   "source": [
    "If we want just the first names, we can select only the column 'vorname':"
   ]
  },
  {
   "cell_type": "code",
   "execution_count": 7,
   "metadata": {
    "collapsed": true
   },
   "outputs": [],
   "source": [
    "bn_firstname = bn['vorname']"
   ]
  },
  {
   "cell_type": "code",
   "execution_count": 8,
   "metadata": {
    "collapsed": false
   },
   "outputs": [
    {
     "data": {
      "text/plain": [
       "0        Charlotte\n",
       "1            Marie\n",
       "2           Sophie\n",
       "3            Anton\n",
       "4             Emma\n",
       "5            Maria\n",
       "6             Emil\n",
       "7              Ali\n",
       "8        Alexander\n",
       "9             Anna\n",
       "10            Leon\n",
       "11             Mia\n",
       "12           Elias\n",
       "13            Karl\n",
       "14            Paul\n",
       "15           Oskar\n",
       "16           Luise\n",
       "17           Felix\n",
       "18            Ella\n",
       "19            Noah\n",
       "20         Johanna\n",
       "21           Henry\n",
       "22           Jonas\n",
       "23           Paula\n",
       "24        Jonathan\n",
       "25      Maximilian\n",
       "26          Emilia\n",
       "27            Mira\n",
       "28           Jakob\n",
       "29        Valentin\n",
       "           ...    \n",
       "3490         Yoshi\n",
       "3491         Youme\n",
       "3492        Younis\n",
       "3493        Yousef\n",
       "3494       Yufitri\n",
       "3495          Yuki\n",
       "3496           Yul\n",
       "3497       Yuliyan\n",
       "3498         Yunes\n",
       "3499         Yunis\n",
       "3500         Yurij\n",
       "3501        Yussif\n",
       "3502         Zahir\n",
       "3503          Zaid\n",
       "3504         Zaire\n",
       "3505    Zamzamtama\n",
       "3506          Zeno\n",
       "3507         Zente\n",
       "3508         Zidan\n",
       "3509        Zidane\n",
       "3510     Zineddine\n",
       "3511        Zuriel\n",
       "3512       Çağatay\n",
       "3513       Étienne\n",
       "3514         Önder\n",
       "3515         Özkan\n",
       "3516           Đuc\n",
       "3517           Đưc\n",
       "3518           Đạt\n",
       "3519         Şükrü\n",
       "Name: vorname, dtype: object"
      ]
     },
     "execution_count": 8,
     "metadata": {},
     "output_type": "execute_result"
    }
   ],
   "source": [
    "bn_firstname"
   ]
  },
  {
   "cell_type": "markdown",
   "metadata": {},
   "source": [
    "We can see the number of names in this list using the function 'len':"
   ]
  },
  {
   "cell_type": "code",
   "execution_count": 9,
   "metadata": {
    "collapsed": false
   },
   "outputs": [
    {
     "data": {
      "text/plain": [
       "3520"
      ]
     },
     "execution_count": 9,
     "metadata": {},
     "output_type": "execute_result"
    }
   ],
   "source": [
    "len(bn_firstname)"
   ]
  },
  {
   "cell_type": "markdown",
   "metadata": {},
   "source": [
    "But we have a little problem here, we can have names that appears more than one time, maybe because of problems in our dataset or because of names that exist both for man and woman. "
   ]
  },
  {
   "cell_type": "code",
   "execution_count": 17,
   "metadata": {
    "collapsed": false
   },
   "outputs": [
    {
     "data": {
      "text/plain": [
       "0     Alex\n",
       "1     Alex\n",
       "2     Anna\n",
       "3    Julia\n",
       "4      Bob\n",
       "dtype: object"
      ]
     },
     "execution_count": 17,
     "metadata": {},
     "output_type": "execute_result"
    }
   ],
   "source": [
    "# Let's create a Pandas Series, another kind of data object, like a DataFrame but just with 1 dimension (one column)\n",
    "\n",
    "names_example = pd.Series(['Alex', 'Alex', 'Anna', 'Julia', 'Bob'])\n",
    "names_example"
   ]
  },
  {
   "cell_type": "markdown",
   "metadata": {},
   "source": [
    "Above we have 5 rows od data but just 4 unique names:"
   ]
  },
  {
   "cell_type": "code",
   "execution_count": 15,
   "metadata": {
    "collapsed": false
   },
   "outputs": [
    {
     "data": {
      "text/plain": [
       "5"
      ]
     },
     "execution_count": 15,
     "metadata": {},
     "output_type": "execute_result"
    }
   ],
   "source": [
    "len(names_example)"
   ]
  },
  {
   "cell_type": "markdown",
   "metadata": {},
   "source": [
    "You can remove all the duplications in a Pandas Series using the method '.unique':"
   ]
  },
  {
   "cell_type": "code",
   "execution_count": 16,
   "metadata": {
    "collapsed": false
   },
   "outputs": [
    {
     "data": {
      "text/plain": [
       "array(['Alex', 'Anna', 'Julia', 'Bob'], dtype=object)"
      ]
     },
     "execution_count": 16,
     "metadata": {},
     "output_type": "execute_result"
    }
   ],
   "source": [
    "names_example.unique()"
   ]
  },
  {
   "cell_type": "code",
   "execution_count": 18,
   "metadata": {
    "collapsed": false
   },
   "outputs": [
    {
     "data": {
      "text/plain": [
       "4"
      ]
     },
     "execution_count": 18,
     "metadata": {},
     "output_type": "execute_result"
    }
   ],
   "source": [
    "without_duplicate = names_example.unique()\n",
    "len(without_duplicate)"
   ]
  },
  {
   "cell_type": "markdown",
   "metadata": {},
   "source": [
    "Now we can use this method for our list of names:"
   ]
  },
  {
   "cell_type": "code",
   "execution_count": 21,
   "metadata": {
    "collapsed": false
   },
   "outputs": [
    {
     "data": {
      "text/plain": [
       "3450"
      ]
     },
     "execution_count": 21,
     "metadata": {},
     "output_type": "execute_result"
    }
   ],
   "source": [
    "# Number of names without duplications\n",
    "len(bn_firstname.unique())"
   ]
  },
  {
   "cell_type": "markdown",
   "metadata": {},
   "source": [
    "This is less than before, when we didn't remove the duplicated names:"
   ]
  },
  {
   "cell_type": "code",
   "execution_count": 22,
   "metadata": {
    "collapsed": false
   },
   "outputs": [
    {
     "data": {
      "text/plain": [
       "3520"
      ]
     },
     "execution_count": 22,
     "metadata": {},
     "output_type": "execute_result"
    }
   ],
   "source": [
    "# Number of names with duplications\n",
    "len(bn_firstname)"
   ]
  },
  {
   "cell_type": "markdown",
   "metadata": {},
   "source": [
    "Now we need to put together the ideas above, but create a code not only for just one neighbourhood. First let get all the neighbourhood names:\n"
   ]
  },
  {
   "cell_type": "code",
   "execution_count": 23,
   "metadata": {
    "collapsed": true
   },
   "outputs": [],
   "source": [
    "all_ngb = berlin_names['bezirke']"
   ]
  },
  {
   "cell_type": "code",
   "execution_count": 26,
   "metadata": {
    "collapsed": false
   },
   "outputs": [
    {
     "data": {
      "text/plain": [
       "0        friedrichshain-kreuzberg\n",
       "1        friedrichshain-kreuzberg\n",
       "2        friedrichshain-kreuzberg\n",
       "3        friedrichshain-kreuzberg\n",
       "4        friedrichshain-kreuzberg\n",
       "5        friedrichshain-kreuzberg\n",
       "6        friedrichshain-kreuzberg\n",
       "7        friedrichshain-kreuzberg\n",
       "8        friedrichshain-kreuzberg\n",
       "9        friedrichshain-kreuzberg\n",
       "10       friedrichshain-kreuzberg\n",
       "11       friedrichshain-kreuzberg\n",
       "12       friedrichshain-kreuzberg\n",
       "13       friedrichshain-kreuzberg\n",
       "14       friedrichshain-kreuzberg\n",
       "15       friedrichshain-kreuzberg\n",
       "16       friedrichshain-kreuzberg\n",
       "17       friedrichshain-kreuzberg\n",
       "18       friedrichshain-kreuzberg\n",
       "19       friedrichshain-kreuzberg\n",
       "20       friedrichshain-kreuzberg\n",
       "21       friedrichshain-kreuzberg\n",
       "22       friedrichshain-kreuzberg\n",
       "23       friedrichshain-kreuzberg\n",
       "24       friedrichshain-kreuzberg\n",
       "25       friedrichshain-kreuzberg\n",
       "26       friedrichshain-kreuzberg\n",
       "27       friedrichshain-kreuzberg\n",
       "28       friedrichshain-kreuzberg\n",
       "29       friedrichshain-kreuzberg\n",
       "                   ...           \n",
       "29048                   neukoelln\n",
       "29049                   neukoelln\n",
       "29050                   neukoelln\n",
       "29051                   neukoelln\n",
       "29052                   neukoelln\n",
       "29053                   neukoelln\n",
       "29054                   neukoelln\n",
       "29055                   neukoelln\n",
       "29056                   neukoelln\n",
       "29057                   neukoelln\n",
       "29058                   neukoelln\n",
       "29059                   neukoelln\n",
       "29060                   neukoelln\n",
       "29061                   neukoelln\n",
       "29062                   neukoelln\n",
       "29063                   neukoelln\n",
       "29064                   neukoelln\n",
       "29065                   neukoelln\n",
       "29066                   neukoelln\n",
       "29067                   neukoelln\n",
       "29068                   neukoelln\n",
       "29069                   neukoelln\n",
       "29070                   neukoelln\n",
       "29071                   neukoelln\n",
       "29072                   neukoelln\n",
       "29073                   neukoelln\n",
       "29074                   neukoelln\n",
       "29075                   neukoelln\n",
       "29076                   neukoelln\n",
       "29077                   neukoelln\n",
       "Name: bezirke, dtype: object"
      ]
     },
     "execution_count": 26,
     "metadata": {},
     "output_type": "execute_result"
    }
   ],
   "source": [
    "all_ngb"
   ]
  },
  {
   "cell_type": "markdown",
   "metadata": {},
   "source": [
    "We have duplicate names in the list above, let's fix it:"
   ]
  },
  {
   "cell_type": "code",
   "execution_count": 27,
   "metadata": {
    "collapsed": false
   },
   "outputs": [
    {
     "data": {
      "text/plain": [
       "array(['friedrichshain-kreuzberg', 'tempelhof-schoeneberg', 'spandau',\n",
       "       'mitte', 'lichtenberg', 'pankow', 'charlottenburg-wilmersdorf',\n",
       "       'reinickendorf', 'marzahn-hellersdorf', 'treptow-koepenick',\n",
       "       'steglitz-zehlendorf', 'neukoelln'], dtype=object)"
      ]
     },
     "execution_count": 27,
     "metadata": {},
     "output_type": "execute_result"
    }
   ],
   "source": [
    "all_ngb = all_ngb.unique()\n",
    "all_ngb"
   ]
  },
  {
   "cell_type": "markdown",
   "metadata": {},
   "source": [
    "Now we create a function that count the number of unique names given a neighbourhood name:"
   ]
  },
  {
   "cell_type": "code",
   "execution_count": 28,
   "metadata": {
    "collapsed": true
   },
   "outputs": [],
   "source": [
    "def count_unique(ngb_name):\n",
    "    bn = berlin_names[berlin_names['bezirke'] == ngb_name]\n",
    "    bnvornames = bn['vorname']\n",
    "    just_unique = bnvornames.unique()\n",
    "    number_of_unique = len(just_unique)\n",
    "    #print('{} => {}'.format(ngb_name, number_of_unique))\n",
    "    return ngb_name, number_of_unique"
   ]
  },
  {
   "cell_type": "code",
   "execution_count": 29,
   "metadata": {
    "collapsed": false
   },
   "outputs": [
    {
     "data": {
      "text/plain": [
       "('mitte', 3781)"
      ]
     },
     "execution_count": 29,
     "metadata": {},
     "output_type": "execute_result"
    }
   ],
   "source": [
    "count_unique('mitte')"
   ]
  },
  {
   "cell_type": "code",
   "execution_count": 33,
   "metadata": {
    "collapsed": false
   },
   "outputs": [
    {
     "name": "stdout",
     "output_type": "stream",
     "text": [
      "Calculate unique names for friedrichshain-kreuzberg\n",
      "Calculate unique names for tempelhof-schoeneberg\n",
      "Calculate unique names for spandau\n",
      "Calculate unique names for mitte\n",
      "Calculate unique names for lichtenberg\n",
      "Calculate unique names for pankow\n",
      "Calculate unique names for charlottenburg-wilmersdorf\n",
      "Calculate unique names for reinickendorf\n",
      "Calculate unique names for marzahn-hellersdorf\n",
      "Calculate unique names for treptow-koepenick\n",
      "Calculate unique names for steglitz-zehlendorf\n",
      "Calculate unique names for neukoelln\n"
     ]
    }
   ],
   "source": [
    "ngb = []\n",
    "\n",
    "for ngb_name in all_ngb:\n",
    "    # Use the function 'count_unique' above\n",
    "    print('Calculate unique names for {}'.format(ngb_name))\n",
    "    number_of_unique_in_ngb = count_unique(ngb_name)\n",
    "    ngb.append(number_of_unique_in_ngb)"
   ]
  },
  {
   "cell_type": "code",
   "execution_count": 35,
   "metadata": {
    "collapsed": false
   },
   "outputs": [
    {
     "data": {
      "text/plain": [
       "[('friedrichshain-kreuzberg', 3450),\n",
       " ('tempelhof-schoeneberg', 3576),\n",
       " ('spandau', 2514),\n",
       " ('mitte', 3781),\n",
       " ('lichtenberg', 2159),\n",
       " ('pankow', 2520),\n",
       " ('charlottenburg-wilmersdorf', 3501),\n",
       " ('reinickendorf', 1215),\n",
       " ('marzahn-hellersdorf', 1037),\n",
       " ('treptow-koepenick', 1114),\n",
       " ('steglitz-zehlendorf', 1083),\n",
       " ('neukoelln', 2724)]"
      ]
     },
     "execution_count": 35,
     "metadata": {},
     "output_type": "execute_result"
    }
   ],
   "source": [
    "# Our end result is a list of names and the number of unique names\n",
    "ngb"
   ]
  },
  {
   "cell_type": "markdown",
   "metadata": {},
   "source": [
    "To work better with that data above, and use all the Pandas tool we are going to convert the list above to a DataFrame:"
   ]
  },
  {
   "cell_type": "code",
   "execution_count": 36,
   "metadata": {
    "collapsed": true
   },
   "outputs": [],
   "source": [
    "df_ngb = pd.DataFrame(ngb)"
   ]
  },
  {
   "cell_type": "code",
   "execution_count": 37,
   "metadata": {
    "collapsed": false
   },
   "outputs": [
    {
     "data": {
      "text/html": [
       "<div>\n",
       "<table border=\"1\" class=\"dataframe\">\n",
       "  <thead>\n",
       "    <tr style=\"text-align: right;\">\n",
       "      <th></th>\n",
       "      <th>0</th>\n",
       "      <th>1</th>\n",
       "    </tr>\n",
       "  </thead>\n",
       "  <tbody>\n",
       "    <tr>\n",
       "      <th>0</th>\n",
       "      <td>friedrichshain-kreuzberg</td>\n",
       "      <td>3450</td>\n",
       "    </tr>\n",
       "    <tr>\n",
       "      <th>1</th>\n",
       "      <td>tempelhof-schoeneberg</td>\n",
       "      <td>3576</td>\n",
       "    </tr>\n",
       "    <tr>\n",
       "      <th>2</th>\n",
       "      <td>spandau</td>\n",
       "      <td>2514</td>\n",
       "    </tr>\n",
       "    <tr>\n",
       "      <th>3</th>\n",
       "      <td>mitte</td>\n",
       "      <td>3781</td>\n",
       "    </tr>\n",
       "    <tr>\n",
       "      <th>4</th>\n",
       "      <td>lichtenberg</td>\n",
       "      <td>2159</td>\n",
       "    </tr>\n",
       "    <tr>\n",
       "      <th>5</th>\n",
       "      <td>pankow</td>\n",
       "      <td>2520</td>\n",
       "    </tr>\n",
       "    <tr>\n",
       "      <th>6</th>\n",
       "      <td>charlottenburg-wilmersdorf</td>\n",
       "      <td>3501</td>\n",
       "    </tr>\n",
       "    <tr>\n",
       "      <th>7</th>\n",
       "      <td>reinickendorf</td>\n",
       "      <td>1215</td>\n",
       "    </tr>\n",
       "    <tr>\n",
       "      <th>8</th>\n",
       "      <td>marzahn-hellersdorf</td>\n",
       "      <td>1037</td>\n",
       "    </tr>\n",
       "    <tr>\n",
       "      <th>9</th>\n",
       "      <td>treptow-koepenick</td>\n",
       "      <td>1114</td>\n",
       "    </tr>\n",
       "    <tr>\n",
       "      <th>10</th>\n",
       "      <td>steglitz-zehlendorf</td>\n",
       "      <td>1083</td>\n",
       "    </tr>\n",
       "    <tr>\n",
       "      <th>11</th>\n",
       "      <td>neukoelln</td>\n",
       "      <td>2724</td>\n",
       "    </tr>\n",
       "  </tbody>\n",
       "</table>\n",
       "</div>"
      ],
      "text/plain": [
       "                             0     1\n",
       "0     friedrichshain-kreuzberg  3450\n",
       "1        tempelhof-schoeneberg  3576\n",
       "2                      spandau  2514\n",
       "3                        mitte  3781\n",
       "4                  lichtenberg  2159\n",
       "5                       pankow  2520\n",
       "6   charlottenburg-wilmersdorf  3501\n",
       "7                reinickendorf  1215\n",
       "8          marzahn-hellersdorf  1037\n",
       "9            treptow-koepenick  1114\n",
       "10         steglitz-zehlendorf  1083\n",
       "11                   neukoelln  2724"
      ]
     },
     "execution_count": 37,
     "metadata": {},
     "output_type": "execute_result"
    }
   ],
   "source": [
    "df_ngb"
   ]
  },
  {
   "cell_type": "markdown",
   "metadata": {},
   "source": [
    "Now we can iterate (loop over) all the rows using the method '.iterrows':"
   ]
  },
  {
   "cell_type": "code",
   "execution_count": 38,
   "metadata": {
    "collapsed": false
   },
   "outputs": [
    {
     "name": "stdout",
     "output_type": "stream",
     "text": [
      "friedrichshain-kreuzberg 3450\n",
      "tempelhof-schoeneberg 3576\n",
      "spandau 2514\n",
      "mitte 3781\n",
      "lichtenberg 2159\n",
      "pankow 2520\n",
      "charlottenburg-wilmersdorf 3501\n",
      "reinickendorf 1215\n",
      "marzahn-hellersdorf 1037\n",
      "treptow-koepenick 1114\n",
      "steglitz-zehlendorf 1083\n",
      "neukoelln 2724\n"
     ]
    }
   ],
   "source": [
    "for i, row in df_ngb.iterrows():\n",
    "    print(row[0], row[1])"
   ]
  },
  {
   "cell_type": "markdown",
   "metadata": {},
   "source": [
    "If we want to get the neighbourhood with the biggest/lowest number of names we can do the code:"
   ]
  },
  {
   "cell_type": "code",
   "execution_count": 39,
   "metadata": {
    "collapsed": true
   },
   "outputs": [],
   "source": [
    "for i, row in df_ngb.iterrows():\n",
    "    name = row[0]\n",
    "    number = row[1]\n",
    "    if i == 0:\n",
    "        biggest_name = name\n",
    "        biggest_number = number\n",
    "        lowest_name = name\n",
    "        lowest_number = number\n",
    "    else:\n",
    "        if number > biggest_number:\n",
    "            biggest_name = name\n",
    "            biggest_number = number\n",
    "        \n",
    "        if number < lowest_number:\n",
    "            lowest_name = name\n",
    "            lowest_number = number"
   ]
  },
  {
   "cell_type": "markdown",
   "metadata": {},
   "source": [
    "## Biggest number of unique names"
   ]
  },
  {
   "cell_type": "code",
   "execution_count": 40,
   "metadata": {
    "collapsed": false
   },
   "outputs": [
    {
     "data": {
      "text/plain": [
       "('mitte', 3781)"
      ]
     },
     "execution_count": 40,
     "metadata": {},
     "output_type": "execute_result"
    }
   ],
   "source": [
    "biggest_name, biggest_number"
   ]
  },
  {
   "cell_type": "markdown",
   "metadata": {},
   "source": [
    "## Lowest number of unique names"
   ]
  },
  {
   "cell_type": "code",
   "execution_count": 41,
   "metadata": {
    "collapsed": false
   },
   "outputs": [
    {
     "data": {
      "text/plain": [
       "('marzahn-hellersdorf', 1037)"
      ]
     },
     "execution_count": 41,
     "metadata": {},
     "output_type": "execute_result"
    }
   ],
   "source": [
    "lowest_name, lowest_number"
   ]
  },
  {
   "cell_type": "markdown",
   "metadata": {},
   "source": [
    "# Visualizing our numbers"
   ]
  },
  {
   "cell_type": "code",
   "execution_count": null,
   "metadata": {
    "collapsed": false
   },
   "outputs": [],
   "source": [
    "# First configure Jupyter to show the plot inside it\n",
    "%pylab inline"
   ]
  },
  {
   "cell_type": "code",
   "execution_count": 44,
   "metadata": {
    "collapsed": false
   },
   "outputs": [
    {
     "data": {
      "text/plain": [
       "<matplotlib.axes._subplots.AxesSubplot at 0x7f20bbb30978>"
      ]
     },
     "execution_count": 44,
     "metadata": {},
     "output_type": "execute_result"
    },
    {
     "data": {
      "image/png": "[encoded data removed]",
      "text/plain": [
       "<matplotlib.figure.Figure at 0x7f20bbb13ac8>"
      ]
     },
     "metadata": {},
     "output_type": "display_data"
    }
   ],
   "source": [
    "df_ngb.plot.bar()"
   ]
  },
  {
   "cell_type": "markdown",
   "metadata": {},
   "source": [
    "We don't have the names of our neighbourhoods in the graph above. You can say it to Pandas, giving the list with names:"
   ]
  },
  {
   "cell_type": "code",
   "execution_count": 45,
   "metadata": {
    "collapsed": false
   },
   "outputs": [
    {
     "data": {
      "text/plain": [
       "<matplotlib.axes._subplots.AxesSubplot at 0x7f20b9a35780>"
      ]
     },
     "execution_count": 45,
     "metadata": {},
     "output_type": "execute_result"
    },
    {
     "data": {
      "image/png": "[encoded data removed]",
      "text/plain": [
       "<matplotlib.figure.Figure at 0x7f20b9a163c8>"
      ]
     },
     "metadata": {},
     "output_type": "display_data"
    }
   ],
   "source": [
    "df_ngb.plot.bar(x=df_ngb[0])"
   ]
  },
  {
   "cell_type": "markdown",
   "metadata": {},
   "source": [
    "Is not very good to read text on vertical. Let's plot our data in another kind of graph, a horizontal bar graph:"
   ]
  },
  {
   "cell_type": "code",
   "execution_count": 46,
   "metadata": {
    "collapsed": false
   },
   "outputs": [
    {
     "data": {
      "text/plain": [
       "<matplotlib.axes._subplots.AxesSubplot at 0x7f20bba8d710>"
      ]
     },
     "execution_count": 46,
     "metadata": {},
     "output_type": "execute_result"
    },
    {
     "data": {
      "image/png": "[encoded data removed]",
      "text/plain": [
       "<matplotlib.figure.Figure at 0x7f20bba837b8>"
      ]
     },
     "metadata": {},
     "output_type": "display_data"
    }
   ],
   "source": [
    "df_ngb.plot.barh(x=df_ngb[0])"
   ]
  },
  {
   "cell_type": "markdown",
   "metadata": {},
   "source": [
    "And another problem, our data is not sorted. Let's do it using the method '.sort_values'. You need to pass the argument 'by=' followed by the column name that you want to sort:"
   ]
  },
  {
   "cell_type": "code",
   "execution_count": 51,
   "metadata": {
    "collapsed": false
   },
   "outputs": [],
   "source": [
    "df_ngb = df_ngb.sort_values(by=1)"
   ]
  },
  {
   "cell_type": "code",
   "execution_count": 52,
   "metadata": {
    "collapsed": false
   },
   "outputs": [
    {
     "data": {
      "text/plain": [
       "<matplotlib.axes._subplots.AxesSubplot at 0x7f20b98019b0>"
      ]
     },
     "execution_count": 52,
     "metadata": {},
     "output_type": "execute_result"
    },
    {
     "data": {
      "image/png": "[encoded data removed]",
      "text/plain": [
       "<matplotlib.figure.Figure at 0x7f20b97e3f60>"
      ]
     },
     "metadata": {},
     "output_type": "display_data"
    }
   ],
   "source": [
    "df_ngb.plot.barh(x=df_ngb[0])"
   ]
  }
 ],
 "metadata": {
  "kernelspec": {
   "display_name": "Python 3",
   "language": "python",
   "name": "python3"
  },
  "language_info": {
   "codemirror_mode": {
    "name": "ipython",
    "version": 3
   },
   "file_extension": ".py",
   "mimetype": "text/x-python",
   "name": "python",
   "nbconvert_exporter": "python",
   "pygments_lexer": "ipython3",
   "version": "3.5.2"
  }
 },
 "nbformat": 4,
 "nbformat_minor": 2
}
